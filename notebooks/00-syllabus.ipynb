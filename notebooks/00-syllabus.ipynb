{
 "cells": [
  {
   "cell_type": "markdown",
   "metadata": {},
   "source": [
    "Engy-5310 Spring 2021 UMass Lowell; Prof. V. F. de Almeida 04Jan2021\n",
    "\n",
    "# Engy-5310: Computational Continuum Transport Phenomena"
   ]
  },
  {
   "cell_type": "markdown",
   "metadata": {},
   "source": [
    "**Catalog description:** <br>\n",
    "The goal of this course is to present an unified treatment of continuum transport phenomena using computational finite element methods. Therefore serving as a foundation for simulation of coupled fluid flow (multiphase), thermo-mechanics, heat transfer, radiation, reactive mass transfer and electromagnetics. The computational framework used is open source and based on MOOSE: Multiphysics Object-Oriented Simulation Environment. Time-dependent, three-dimensional models will be the end-target of this course, therefore necessary topics in parallel computing will be covered. Basic knowledge of transport phenomena is required in addition to computer programming skills of one or more object oriented languages (*e.g.* C++ or/and Python).<br>    \n",
    "**Pre-requisites:** Transport phenomena, computational methods in engineering, partial differential equations.<br>\n",
    "    \n",
    "**References:**<br>\n",
    "There is no required textbook. Course notes are provided in addition to suggested references.\n",
    " 1. *Engy-5310 course notes and repository (to be uploaded on public domain)*\n",
    " 2. [MOOSE](https://www.mooseframework.org/)"
   ]
  },
  {
   "cell_type": "markdown",
   "metadata": {},
   "source": [
    "**Course topics:**\n",
    " - Review of transport phenomena partial differential equation (PDE) types; hyperbolic, elliptic, parabolic\n",
    " - Review of continuum transport phenomena theory\n",
    " - Weak formulation of PDEs\n",
    " - Finite element methods and meshing\n",
    " - Parallel computing algorithms\n",
    " - 1-D, time-dependent problems\n",
    " - 2-D, time-dependent problems\n",
    " - 3-D, time-dependent problems\n",
    " - Problems of particular interest to chemical, nuclear engineering, physics and others depending on attendance"
   ]
  },
  {
   "cell_type": "markdown",
   "metadata": {},
   "source": [
    "**Learning outcomes:** Upon completion of this course, a student should be able to\n",
    "1. Understand behaviors of different PDE types.\n",
    "1. Know the physico-chemical meaning of PDE models.\n",
    "1. Couple multiphysical models.\n",
    "1. Use finite element methods for PDEs.\n",
    "1. Use parallel computing tools for solving the resulting algebraic equations.\n",
    "1. Perform simulations in 1-D, 2-D, and 3-D for basic transport phenomena of interest to chemical and nuclear engineering and other fields."
   ]
  },
  {
   "cell_type": "code",
   "execution_count": null,
   "metadata": {},
   "outputs": [],
   "source": []
  }
 ],
 "metadata": {
  "kernelspec": {
   "display_name": "Python 3",
   "language": "python",
   "name": "python3"
  },
  "language_info": {
   "codemirror_mode": {
    "name": "ipython",
    "version": 3
   },
   "file_extension": ".py",
   "mimetype": "text/x-python",
   "name": "python",
   "nbconvert_exporter": "python",
   "pygments_lexer": "ipython3",
   "version": "3.8.6"
  },
  "latex_envs": {
   "LaTeX_envs_menu_present": true,
   "autoclose": false,
   "autocomplete": true,
   "bibliofile": "biblio.bib",
   "cite_by": "apalike",
   "current_citInitial": 1,
   "eqLabelWithNumbers": true,
   "eqNumInitial": 1,
   "hotkeys": {
    "equation": "Ctrl-E",
    "itemize": "Ctrl-I"
   },
   "labels_anchors": false,
   "latex_user_defs": false,
   "report_style_numbering": false,
   "user_envs_cfg": false
  },
  "toc": {
   "base_numbering": 1,
   "nav_menu": {},
   "number_sections": true,
   "sideBar": true,
   "skip_h1_title": false,
   "title_cell": "Table of Contents",
   "title_sidebar": "Contents",
   "toc_cell": false,
   "toc_position": {},
   "toc_section_display": true,
   "toc_window_display": false
  }
 },
 "nbformat": 4,
 "nbformat_minor": 2
}
