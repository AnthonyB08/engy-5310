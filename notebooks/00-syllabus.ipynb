{
 "cells": [
  {
   "cell_type": "markdown",
   "metadata": {},
   "source": [
    "Engy-5310 Spring 2021 UMass Lowell; Prof. V. F. de Almeida **04Jan2021**\n",
    "\n",
    "# Engy-5310: Computational Continuum Transport Phenomena"
   ]
  },
  {
   "cell_type": "markdown",
   "metadata": {},
   "source": [
    "### Instructor: Prof. Valmor F. de Almeida                 \n",
    "**Office:**    Online via BB Collaborate. <br> \n",
    "**Email:**     valmor_dealmeida@uml.edu. <br>\n",
    "**Web:**       https://www.uml.edu/Engineering/Chemical/faculty/de-Almeida-Valmor.aspx <br>   \n",
    "**Lectures:** \n",
    " + **Virtual, Blackboard Collaborate**, Thu 5:00 – 6:00 pm, Fri 4:00 - 5:00 pm. <br> \n",
    " + **Virtual, UML Linux Club Zoom**, Fri 5:00 - 6:00 pm.  \n",
    " \n",
    "**Days meetings total :** 38. <br>\n",
    "**Week meetings total:** 14. <br>\n",
    "<span style=\"color:red\"><b>Website:</b></span> On-line course [repository](https://github.com/dpploy/engy-5310) and UMass Lowell Blackboard System. <br>\n",
    "**Office hours and location:** by email appointment at Blackboard Collaborate. <br>\n",
    "**Other means of contact:**  email. <br>\n",
    "     \n",
    "**Catalog description (proposed):** <br>\n",
    "The goal of this course is to present an unified treatment of continuum transport phenomena using computational finite element methods. Therefore serving as a foundation for simulation of coupled fluid flow (multiphase), thermo-mechanics, heat transfer, radiation, reactive mass transfer and electromagnetics. The computational framework used is open source and based on MOOSE: Multiphysics Object-Oriented Simulation Environment. Time-dependent, three-dimensional models will be the end-target of this course, therefore necessary topics in parallel computing will be covered. Basic knowledge of transport phenomena is required in addition to computer programming skills of one or more object oriented languages (*e.g.* C++ or/and Python).<br>    \n",
    "**Ideal pre-requisites:** Transport phenomena, computational methods in engineering, partial differential equations.<br>\n",
    "**Course designation:** elective. <br>\n",
    "    \n",
    "**References:**<br>\n",
    "There is no required textbook. Course notes are provided in addition to suggested references.\n",
    " 1. *Engy-5310 course notes and repository (updated weekly)*\n",
    " 1. [MOOSE](https://www.mooseframework.org/).    \n",
    "<br>\n",
    "\n",
    " 1. [*Numerical Solution of Partial Differential Equations by the Finite Element Method*](https://www.amazon.com/Numerical-Solution-Differential-Equations-Mathematics/dp/048646900X/ref=pd_sim_1?pd_rd_w=3kypr&pf_rd_p=495b84a8-4624-4096-8e20-27b4882c0d09&pf_rd_r=8YQAC8SQFR639HM6PMTM&pd_rd_r=221275aa-e940-4f7f-99a3-485edb0ea732&pd_rd_wg=DKcnp&pd_rd_i=048646900X&psc=1), Claes Johnson, Dover, Inc., 2000, 288 pp.\n",
    " 1. [*Finite Element Method: Linear Static And Dynamic Finite Element Analysis*](https://www.amazon.com/Finite-Element-Method-Mechanical-Engineering/dp/0486411818), Thomas J. R. Hughes, Dover, 2000, 704 pp.\n",
    " 1. [*The Mathematical Theory of Finite Element Methods*](https://www.amazon.com/Mathematical-Element-Methods-Applied-Mathematics/dp/1441926119/ref=sr_1_1?dchild=1&keywords=brenner+finite+element&qid=1611645032&s=books&sr=1-1), S.C. Brenner and L.R. Scott, Springer, 2008, 418 pp.\n",
    " 1. [*The Finite Element Method for Elliptic Problems*](https://www.amazon.com/Finite-Element-Method-Elliptic-Problems/dp/0444557172/ref=sr_1_1?dchild=1&keywords=ciarlet+finite+element&qid=1611645174&s=books&sr=1-1),  Philippe G. Ciarlet, North Holland, Inc., 2012, 550 pp.\n",
    " 1. [*An Introduction to the Mathematical Theory of Finite Elements*](https://www.amazon.com/Introduction-Mathematical-Theory-Elements-Engineering/dp/0486462994/ref=sr_1_8?dchild=1&keywords=finite+element&qid=1611645394&s=books&sr=1-8),  J. T. Oden,  and J. N. Reddy, Dover, 2011, 446 pp.   \n",
    " \n",
    "<span style=\"color:red\"><b>Software needed for course and labwork:</b></span> Jupyter notebook access options for this course<br>\n",
    "\n",
    " 1. <span style=\"color:red\"><b>Preferred way:</b></span> [Anaconda](https://docs.anaconda.com/anaconda/install/#) free download (use the Python 3 version) for Mac OS X or Windows (Linux too in case you are a rare die-hard programmer; if this is your case come talk to me). After install, use [Anaconda-Navigator](https://docs.anaconda.com/anaconda/navigator/) to start a Jupyter Notebook server.\n",
    " \n",
    " 1. Use Binder at the course [repository](https://github.com/dpploy/engy-5310)\n",
    " \n",
    " 1. Use the [UMass Lowell vLabs](https://www.uml.edu/IT/Services/vLabs/) Learning Commons machine. Download the VMWare Horizon Client and install on your computer. Login with your academic credentials. Anaconda is pre-installed, use the Anaconda-Navigator to start the Jupyter Notebook application.\n",
    " \n",
    "<span style=\"color:red\"><b>Instructive:</b></span> [ChEn-3170](https://github.com/dpploy/chen-3170)<br>\n",
    "\n",
    "**Suplement materials:** On-line course [repository](https://github.com/dpploy/engy-5310)."
   ]
  },
  {
   "cell_type": "markdown",
   "metadata": {},
   "source": [
    "**Course topics:**\n",
    " - Review of transport phenomena partial differential equation (PDE) types; hyperbolic, elliptic, parabolic\n",
    " - Review of continuum transport phenomena theory\n",
    " - Weak formulation of PDEs\n",
    " - Finite element methods and meshing\n",
    " - Parallel computing algorithms\n",
    " - 1-D, time-dependent problems\n",
    " - 2-D, time-dependent problems\n",
    " - 3-D, time-dependent problems\n",
    " - Problems of particular interest to chemical, nuclear engineering, physics and others depending on attendance\n",
    " \n",
    "**Grading notes:** for grading purposes the requirements for this course include:\n",
    " + Problem solving (project) using [MOOSE](https://www.mooseframework.org/); choice of student (in consultation with instructor).\n",
    " + Presentation of project results; ideally using a Jupyter notebook and hosted on public domain.\n",
    "\n",
    "|**Course Grading Procedure** |**Value**|\n",
    "|:----------------------------|:-------:|\n",
    "| Project work                | 100/100 |\n",
    "    \n",
    "|**Letter Grade Scale** |**Value**|\n",
    "|:----------------------|:-------:|\n",
    "| A                     | 92+     |\n",
    "| A-                    | 87–91.9 |\n",
    "| B+                    | 82–86.9 |\n",
    "| B                     | 77–81.9 |\n",
    "| B-                    | 72–76.9 |\n",
    "| C+                    | 67–71.9 |\n",
    "| C                     | 62–66.9 |\n",
    "| C-                    | 58–61.9 |\n",
    "| D+                    | 54–57.9 |\n",
    "| D                     | 50–53.9 |\n",
    "| F                     | <50     |"
   ]
  },
  {
   "cell_type": "markdown",
   "metadata": {},
   "source": [
    "**Learning outcomes:** Upon completion of this course, a student should be able to\n",
    "1. Understand behaviors of different PDE types.\n",
    "1. Know the physico-chemical meaning of PDE models.\n",
    "1. Couple multiphysical models.\n",
    "1. Use finite element methods for PDEs.\n",
    "1. Use parallel computing tools for solving the resulting algebraic equations.\n",
    "1. Perform simulations in 1-D, 2-D, and 3-D for basic transport phenomena of interest to chemical and nuclear engineering and other fields."
   ]
  },
  {
   "cell_type": "markdown",
   "metadata": {},
   "source": [
    "**Schedule:**\n",
    "\n",
    "|**Week**|Day| **Date**  |**Notebook**|**Assessment**|**Note**|\n",
    "|:-------|:-:|:---------:|:-----------|:-------------|:------:|\n",
    "|-       |-  | <span style=\"color:blue\"><b>January</b>|-           |-             |-       |\n",
    "| **1**  | **Th** |**28Jan21**| [01](https://nbviewer.jupyter.org/github/dpploy/chen-5310/blob/master/notebooks/01-introduction.ipynb)   |  -  |  Differential eqns |\n",
    "| 1      | Fr |  28Jan21  |     [01](https://nbviewer.jupyter.org/github/dpploy/chen-3170/blob/master/notebooks/01-introduction.ipynb)    |    -  | Basis functions   |\n",
    "| 1      | Fr |  29Jan21  |     -     | -  | MOOSE |"
   ]
  },
  {
   "cell_type": "markdown",
   "metadata": {},
   "source": [
    "|**Week**|Day| **Date**  |**Notebook**|**Assessment**|**Note**|\n",
    "|:-------|:-:|:---------:|:-----------|:-------------|:------:|\n",
    "|-       |-  | <span style=\"color:blue\"><b>February</b>|-           |-             |-       |\n",
    "| **2**  | **Th** |  **04Feb21**  |     - |  -  |  - |\n",
    "|  2     | Fr |  05Feb21 | -   |      -       |   - |\n",
    "|  2     | Fr |05Feb21|  -  | -  | MOOSE  |\n",
    "| **3**  | **Th** |  **11Feb21**  | -    |  - | - |\n",
    "| 3      | Fr |  12Feb21  |    -      |     -        |  -  |\n",
    "| 3      | Fr |  12Feb21  |     -    |    -     | MOOSE |\n",
    "| **4**  | **Th** |18Feb21|   -       | -      | -   |\n",
    "| 4      | Fr |  19Feb21  |  -  |   -   |  -  |\n",
    "| 4      | Fr |  19Feb21  |  -  |   -   | MOOSE  |\n",
    "| **5**      | **Th** |  **25Feb21**  |  -  |\n",
    "| 5      | Fr |  26Feb21  | -  |  -  | - |\n",
    "| 6      | Fr |  26Feb21  | - |   -     | MOOSE  |"
   ]
  }
 ],
 "metadata": {
  "kernelspec": {
   "display_name": "Python 3",
   "language": "python",
   "name": "python3"
  },
  "language_info": {
   "codemirror_mode": {
    "name": "ipython",
    "version": 3
   },
   "file_extension": ".py",
   "mimetype": "text/x-python",
   "name": "python",
   "nbconvert_exporter": "python",
   "pygments_lexer": "ipython3",
   "version": "3.8.5"
  },
  "latex_envs": {
   "LaTeX_envs_menu_present": true,
   "autoclose": false,
   "autocomplete": true,
   "bibliofile": "biblio.bib",
   "cite_by": "apalike",
   "current_citInitial": 1,
   "eqLabelWithNumbers": true,
   "eqNumInitial": 1,
   "hotkeys": {
    "equation": "Ctrl-E",
    "itemize": "Ctrl-I"
   },
   "labels_anchors": false,
   "latex_user_defs": false,
   "report_style_numbering": false,
   "user_envs_cfg": false
  },
  "toc": {
   "base_numbering": 1,
   "nav_menu": {},
   "number_sections": true,
   "sideBar": true,
   "skip_h1_title": false,
   "title_cell": "Table of Contents",
   "title_sidebar": "Contents",
   "toc_cell": false,
   "toc_position": {},
   "toc_section_display": true,
   "toc_window_display": false
  }
 },
 "nbformat": 4,
 "nbformat_minor": 2
}
