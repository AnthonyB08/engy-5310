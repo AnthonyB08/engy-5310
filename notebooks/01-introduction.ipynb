{
 "cells": [
  {
   "cell_type": "markdown",
   "metadata": {},
   "source": [
    "ChEn-5310: Computational Continuum Transport Phenomena Spring 2021 UMass Lowell; Prof. V. F. de Almeida **25Jan21**\n",
    "\n",
    "# 01. Introduction\n",
    "$  \n",
    "  \\newcommand{\\Amtrx}{\\boldsymbol{\\mathsf{A}}}\n",
    "  \\newcommand{\\Bmtrx}{\\boldsymbol{\\mathsf{B}}}\n",
    "  \\newcommand{\\Mmtrx}{\\boldsymbol{\\mathsf{M}}}\n",
    "  \\newcommand{\\Imtrx}{\\boldsymbol{\\mathsf{I}}}\n",
    "  \\newcommand{\\Pmtrx}{\\boldsymbol{\\mathsf{P}}}\n",
    "  \\newcommand{\\Lmtrx}{\\boldsymbol{\\mathsf{L}}}\n",
    "  \\newcommand{\\Umtrx}{\\boldsymbol{\\mathsf{U}}}\n",
    "  \\newcommand{\\Smtrx}{\\boldsymbol{\\mathsf{S}}}\n",
    "  \\newcommand{\\xvec}{\\boldsymbol{\\mathsf{x}}}\n",
    "  \\newcommand{\\avec}{\\boldsymbol{\\mathsf{a}}}\n",
    "  \\newcommand{\\bvec}{\\boldsymbol{\\mathsf{b}}}\n",
    "  \\newcommand{\\cvec}{\\boldsymbol{\\mathsf{c}}}\n",
    "  \\newcommand{\\rvec}{\\boldsymbol{\\mathsf{r}}}\n",
    "  \\newcommand{\\fvec}{\\boldsymbol{\\mathsf{f}}}\n",
    "  \\newcommand{\\mvec}{\\boldsymbol{\\mathsf{m}}}\n",
    "  \\newcommand{\\gvec}{\\boldsymbol{\\mathsf{g}}}\n",
    "  \\newcommand{\\zerovec}{\\boldsymbol{\\mathsf{0}}}\n",
    "  \\newcommand{\\norm}[1]{\\bigl\\lVert{#1}\\bigr\\rVert}\n",
    "  \\newcommand{\\transpose}[1]{{#1}^\\top}\n",
    "  \\DeclareMathOperator{\\rank}{rank}\n",
    "  \\newcommand{\\Reals}{\\mathbb{R}}\n",
    "  \\newcommand{\\thetavec}{\\boldsymbol{\\theta}}\n",
    "$"
   ]
  },
  {
   "cell_type": "markdown",
   "metadata": {},
   "source": [
    "---\n",
    "\n",
    "## Table of Contents<a id=\"toc\"></a>\n",
    "* [Objectives](#obj)\n",
    "* [Least-Squares Residual w/ Fourier Basis Functions](#lsq)\n",
    "  - [Collocation Points](#colpts)\n",
    "  - [Linear Combination of Basis Functions](#lincomb)\n",
    "  - [Least-Squares of Residual](#lsqcalc)\n",
    "  - [Results](#res)\n",
    "---"
   ]
  },
  {
   "cell_type": "markdown",
   "metadata": {},
   "source": [
    "## [Objectives](#toc)<a id=\"obj\"></a>\n",
    "\n",
    " + Introductory comments on variational forms and basis functions.\n",
    " + Elementary use of basis functions to approximate a given function: linear least-squares method\n",
    " + Elementary description of a least-squares Galerkin spectral element method to solve 1-D Poisson problem.\n",
    " + [Handwritten notes in OneNote](https://studentuml-my.sharepoint.com/:o:/g/personal/valmor_dealmeida_uml_edu/EiT9S8dWWQ5LuvalDfeDuOoBs-_tgLPFR83xU6WumdI9xg?e=fQXd40)."
   ]
  },
  {
   "cell_type": "markdown",
   "metadata": {},
   "source": [
    "## [Least-Squares Residual w/ Fourier Basis Functions](#toc)<a id=\"lsq\"></a>\n",
    "\n",
    "Given a *well-behaved* function $f:\\Reals\\rightarrow\\Reals$ how can we systematically compute an approximant $g:\\Reals\\rightarrow\\Reals$? Why would anyone care about this? The ability to approximate a given $f$ helps build methods to approximate $f$ when it is not explicitly given but sought as the solution of a mathematical problem such as an ODE or PDE."
   ]
  },
  {
   "cell_type": "code",
   "execution_count": 1,
   "metadata": {
    "code_folding": [
     12
    ]
   },
   "outputs": [
    {
     "data": {
      "image/png": "[encoded data removed]",
      "text/plain": [
       "<Figure size 504x360 with 1 Axes>"
      ]
     },
     "metadata": {
      "needs_background": "light"
     },
     "output_type": "display_data"
    }
   ],
   "source": [
    "'''Generate a smooth function f'''\n",
    "\n",
    "from engy_5310.toolkit import Function\n",
    "import matplotlib.pyplot as plt\n",
    "%matplotlib inline\n",
    "\n",
    "import numpy as np\n",
    "\n",
    "control_pts = [(0,-5),(1,9),(2,-8),(3,28),(5,-23),(7,12),(9,1),(10,-5)]\n",
    "\n",
    "f = Function(control_pts, type='poly')\n",
    "  \n",
    "def plot(f, g=None, control_pts=False):\n",
    "    \n",
    "    x = np.linspace(f.control_pts[0][0], f.control_pts[-1][0], 100)\n",
    "    y = f.values(x)\n",
    "    \n",
    "    plt.figure(1, figsize=(7, 5))\n",
    "\n",
    "    plt.plot(x,y)\n",
    "    \n",
    "    if control_pts:\n",
    "        plt.plot([p[0] for p in control_pts], [p[1] for p in control_pts],'r*',label='control points')\n",
    "    \n",
    "    if g:\n",
    "        plt.plot(g[0],g[1],'--r')\n",
    "    \n",
    "    plt.xlabel(r'$x$',fontsize=18)\n",
    "    plt.ylabel(r'$f(x)$',fontsize=18)\n",
    "    \n",
    "    if g:\n",
    "        plt.title('Function Comparison', fontsize=20)\n",
    "    else:\n",
    "        plt.title('Given Function',fontsize=20)\n",
    "        \n",
    "    if control_pts:\n",
    "        plt.legend(loc='best',fontsize=12)\n",
    "    plt.xticks(fontsize=16)\n",
    "    plt.yticks(fontsize=16)\n",
    "    plt.grid(True)\n",
    "    plt.show()\n",
    "    \n",
    "plot(f)"
   ]
  },
  {
   "cell_type": "markdown",
   "metadata": {},
   "source": [
    "### [Collocation Points](#toc)<a id=\"colpts\"></a>\n",
    "\n",
    "If $g$ is obtainable, how would we compare to $f$? On the whole $\\Reals$? This prompts the simple idea of computing $g$ to approximate $f$ on a selected number of points in $\\Reals$. Hence, let's select a number of *collocation* points: $\\{x_i \\mid i=1,\\ldots,m\\}$. Now we can ask a more definite question. How do we make $g$ and $f$ to be very close when evaluated at the collocation points? Ideally if $m\\rightarrow\\infty$ then $f\\approx g$ to a good extent."
   ]
  },
  {
   "cell_type": "code",
   "execution_count": 2,
   "metadata": {},
   "outputs": [],
   "source": [
    "'''Collocation points'''\n",
    "\n",
    "min_x = 0\n",
    "max_x = 10\n",
    "m = 100\n",
    "\n",
    "collocation_pts = np.linspace(min_x, max_x, m)"
   ]
  },
  {
   "cell_type": "markdown",
   "metadata": {},
   "source": [
    "### [Linear Combination of Basis Functions](#toc)<a id=\"lincomb\"></a>\n",
    "\n",
    "A powerful method used to compute an approximant $g$ can be built using a simple structure of a basis function set, for example\n",
    "\n",
    "\\begin{equation*}\n",
    "   V := \\{\\cos(k\\,\\mu\\,x), \\,\\sin(k\\,\\mu\\,x)\\, \\mid \\, k=0,\\ldots,N\\}.\n",
    "\\end{equation*}\n",
    "\n",
    "This will be referred to as a Fourier basis function set. An approximant $g$ can be sougth as a **linear combination** of nonlinear functions:\n",
    "\n",
    "\\begin{equation*}\n",
    " g(x) := \\sum\\limits_{k=0}^N \\alpha_k\\,\\cos(k\\,\\mu\\,x) + \\beta_k\\,\\sin(k\\,\\mu\\,x) \\quad\\  \\forall \\quad\\ x\\in\\Reals.\n",
    "\\end{equation*}\n",
    "\n",
    "Here there are $n=2N+1$ real coefficients $\\alpha_k$ and $\\beta_k$, and $\\mu$ is the wavenumber. For future reference the vector of coefficients $\\cvec \\in \\Reals^n$, is defined as follows:  $\\cvec = \\begin{pmatrix}\n",
    " \\alpha_0 \\\\ \n",
    " \\alpha_1 \\\\ \n",
    " \\beta_1  \\\\ \n",
    " \\vdots \\\\\n",
    " \\alpha_N \\\\ \n",
    " \\beta_N \\\\\n",
    "\\end{pmatrix}$. Furthermore the $g$ function is written with the explicit dependence on the coefficients as parameters:\n",
    "\n",
    "\\begin{equation*}\n",
    " g(x; \\cvec) = \\sum\\limits_{k=0}^N \\alpha_k\\,\\cos(k\\,\\mu\\,x) + \\beta_k\\,\\sin(k\\,\\mu\\,x) \\quad\\  \\forall \\quad\\ x\\in\\Reals.\n",
    "\\end{equation*}\n",
    "\n",
    "How could we compute the *best* values for these coefficients so that $g(x_i,\\cvec)$ and $f(x_i)$ are *sufficiently close* for all $x_i$?\n",
    "\n",
    "Let's define the vector $\\fvec\\in\\Reals^m$ of values $f_i = f(x_i)$ as \n",
    "$\\fvec = \\begin{pmatrix}\n",
    " f(x_1) \\\\ \n",
    " f(x_2) \\\\ \n",
    " \\vdots  \\\\ \n",
    " f(x_m) \\\\ \n",
    "\\end{pmatrix}$ and similarly the vector-valued function of a vector argument, $\\gvec:\\Reals^n\\rightarrow\\Reals^m$, that is,\n",
    "$\\gvec(\\cvec) = \\begin{pmatrix}\n",
    " g(x_1,\\cvec) \\\\ \n",
    " g(x_2,\\cvec) \\\\ \n",
    " \\vdots  \\\\ \n",
    " g(x_m,\\cvec) \\\\ \n",
    "\\end{pmatrix}$, where $\\cvec$ is the vector of coefficients. Note that $\\gvec$ is a **linear function** of its argument, that is,\n",
    "\n",
    "\\begin{equation*}\n",
    " \\boxed{\\gvec(\\cvec) = \\Amtrx\\,\\cvec},\n",
    "\\end{equation*}\n",
    "\n",
    "where $\\Amtrx$ is a $m\\times n$ real matrix, that is:\n",
    "\n",
    "$\\overset{(m \\times n)}{\\Amtrx} =  \\begin{pmatrix}\n",
    "1 & \\cos(\\mu\\,x_1) & \\sin(\\mu\\,x_1) & \\cos(2\\mu\\,x_1) & \\sin(2\\mu\\,x_1) & \\ldots & \\cos(N\\mu\\,x_1) & \\sin(N\\mu\\,x_1)  \\\\\n",
    "1 & \\cos(\\mu\\,x_2) & \\sin(\\mu\\,x_2) & \\cos(2\\mu\\,x_2) & \\sin(2\\mu\\,x_2) & \\ldots & \\cos(N\\mu\\,x_2) & \\sin(N\\mu\\,x_2)  \\\\\n",
    "\\vdots  & \\vdots & \\vdots & \\vdots & \\vdots & \\vdots & \\vdots & \\vdots \\\\\n",
    "1 & \\cos(\\mu\\,x_m) & \\sin(\\mu\\,x_m) & \\cos(2\\mu\\,x_m) & \\sin(2\\mu\\,x_m) & \\ldots & \\cos(N\\mu\\,x_m) & \\sin(N\\mu\\,x_m)  \\\\\n",
    " \\end{pmatrix}$.\n",
    "\n",
    "This important linear relationship is the whole point of using a linear combination of the basis functions as it will be apparent next."
   ]
  },
  {
   "cell_type": "code",
   "execution_count": 3,
   "metadata": {},
   "outputs": [],
   "source": [
    "'''Build the approximant linear function'''\n",
    "\n",
    "import math\n",
    "\n",
    "wavelength = max_x - min_x\n",
    "mu = 2*math.pi/wavelength\n",
    "N = 5\n",
    "assert m > 2*N + 1\n",
    "\n",
    "from engy_5310.toolkit import build_fourier_linear_system\n",
    "\n",
    "(a_mtrx, f_vec) = build_fourier_linear_system(mu, N, collocation_pts, f.values(collocation_pts) )"
   ]
  },
  {
   "cell_type": "markdown",
   "metadata": {},
   "source": [
    "### [Least-Squares of Residual](#toc)<a id=\"lsqcalc\"></a>\n",
    "\n",
    "It is natural to form the residual function, $\\rvec:\\Reals^m\\rightarrow\\Reals^m$ evaluated at $\\cvec$, that is, $\\rvec(\\cvec) := \\gvec(\\cvec) - \\fvec$ and ask the question how to compute $\\cvec^*$ so to minimize the magnitude of $\\rvec(\\cvec^*)$? Arguably the *best* method is to minimize the sum of the squares of the residual vector components,\n",
    "\n",
    "\\begin{equation*}\n",
    " \\phi(\\cvec^*) = \\min\\limits_\\cvec \\, \\norm{\\rvec(\\cvec)}^2_2 \\quad\\  \\forall \\quad\\ \\cvec.\n",
    "\\end{equation*}\n",
    "\n",
    "that is to say, to compute $\\cvec^*$ using the least-squares method. To make progress to compute $\\cvec^*$, let's rewrite the previous equation as follows\n",
    "\n",
    "\\begin{equation*}\n",
    " \\phi(\\cvec^*) = \\min\\limits_\\cvec \\, (\\Amtrx\\,\\cvec-\\fvec)\\cdot(\\Amtrx\\,\\cvec-\\fvec) \\quad \\forall \\quad\\ \\cvec.\n",
    "\\end{equation*}\n",
    "\n",
    "We can now impose the optimality condition (directional derivative set to zero in any direction)\n",
    "\n",
    "\\begin{equation*}\n",
    " dd_\\thetavec \\phi(\\cvec^*) = 0 \\quad \\forall \\quad \\thetavec .\n",
    "\\end{equation*}\n",
    "\n",
    "This leads to the normal matrix equation\n",
    "\n",
    "\\begin{equation*}\n",
    " \\Amtrx^\\top\\Amtrx\\,\\cvec^* = \\Amtrx^\\top\\,\\fvec ,\n",
    "\\end{equation*}\n",
    "\n",
    "which has a unique solution as long as $\\Amtrx$ is full rank.\n"
   ]
  },
  {
   "cell_type": "code",
   "execution_count": 4,
   "metadata": {},
   "outputs": [],
   "source": [
    "'''Compute optimal coefficient vector'''\n",
    "\n",
    "from engy_5310.toolkit import solve\n",
    "\n",
    "c_vec = solve(a_mtrx.transpose()@a_mtrx, a_mtrx.transpose()@f_vec)"
   ]
  },
  {
   "cell_type": "markdown",
   "metadata": {},
   "source": [
    "### [Results](#toc)<a id=\"res\"></a>"
   ]
  },
  {
   "cell_type": "code",
   "execution_count": 5,
   "metadata": {},
   "outputs": [
    {
     "data": {
      "image/png": "[encoded data removed]",
      "text/plain": [
       "<Figure size 504x360 with 1 Axes>"
      ]
     },
     "metadata": {
      "needs_background": "light"
     },
     "output_type": "display_data"
    }
   ],
   "source": [
    "'''Plot comparison of f and g_vec'''\n",
    "\n",
    "plot_pts = np.linspace(min_x, max_x, 100)\n",
    "\n",
    "(a_mtrx, _) = build_fourier_linear_system(mu, N, plot_pts, np.zeros(100))\n",
    "\n",
    "g_vec = a_mtrx @ c_vec\n",
    "\n",
    "plot(f,(plot_pts,g_vec))"
   ]
  },
  {
   "cell_type": "code",
   "execution_count": 6,
   "metadata": {},
   "outputs": [
    {
     "name": "stdout",
     "output_type": "stream",
     "text": [
      "mean local rel error [%] =  41.50194973941828\n",
      "std local rel error [%] =  65.91318846848175\n",
      "max local rel error [%] =  287.791052803676\n",
      "min local rel error [%] =  0.4633002120713242\n"
     ]
    }
   ],
   "source": [
    "'''Local error'''\n",
    "\n",
    "x_pts = np.linspace(min_x, max_x, 50)\n",
    "\n",
    "f_vec = f.values(x_pts)\n",
    "\n",
    "(a_mtrx, _) = build_fourier_linear_system(mu, N, x_pts, np.zeros(x_pts.size))\n",
    "g_vec = a_mtrx @ c_vec\n",
    "\n",
    "shift = False\n",
    "\n",
    "if shift:\n",
    "    min_val = min(min(f_vec), min(g_vec))\n",
    "    v_shift = min_val\n",
    "    f_vec += abs(v_shift+1)\n",
    "    g_vec += abs(v_shift+1)\n",
    "\n",
    "print('mean local rel error [%] = ', np.mean(abs((g_vec-f_vec)/f_vec*100.0)))\n",
    "print('std local rel error [%] = ', np.std(abs((g_vec-f_vec)/f_vec*100.0)))\n",
    "print('max local rel error [%] = ', np.max(abs((g_vec-f_vec)/f_vec*100.0)))\n",
    "print('min local rel error [%] = ', np.min(abs((g_vec-f_vec)/f_vec*100.0)))"
   ]
  },
  {
   "cell_type": "code",
   "execution_count": 7,
   "metadata": {
    "code_folding": [
     6
    ]
   },
   "outputs": [
    {
     "name": "stdout",
     "output_type": "stream",
     "text": [
      "Area under f = (58.678513979027464, 3.14705055692464e-12)\n",
      "Area under g = (59.39803637949856, 3.03208268056718e-12)\n",
      "rel error [%] =  1.226211012651525\n"
     ]
    }
   ],
   "source": [
    "'''Integral error'''\n",
    "\n",
    "from scipy.integrate import quad\n",
    "\n",
    "def f_integrand(x):\n",
    "    return f.values(np.array(x))\n",
    "def g_integrand(x):\n",
    "    (a_mtrx, _) = build_fourier_linear_system(mu, N, np.array(x), np.zeros(1))\n",
    "    g_vec = a_mtrx @ c_vec\n",
    "    return g_vec\n",
    "\n",
    "f_integral = quad(f_integrand, 0, 10)\n",
    "print('Area under f =', f_integral)\n",
    "\n",
    "g_integral = quad(g_integrand, 0, 10)\n",
    "print('Area under g =', g_integral)\n",
    "\n",
    "print('rel error [%] = ', (g_integral[0]-f_integral[0])/f_integral[0]*100)"
   ]
  }
 ],
 "metadata": {
  "kernelspec": {
   "display_name": "Python 3",
   "language": "python",
   "name": "python3"
  },
  "language_info": {
   "codemirror_mode": {
    "name": "ipython",
    "version": 3
   },
   "file_extension": ".py",
   "mimetype": "text/x-python",
   "name": "python",
   "nbconvert_exporter": "python",
   "pygments_lexer": "ipython3",
   "version": "3.8.7"
  },
  "latex_envs": {
   "LaTeX_envs_menu_present": true,
   "autoclose": false,
   "autocomplete": true,
   "bibliofile": "biblio.bib",
   "cite_by": "apalike",
   "current_citInitial": 1,
   "eqLabelWithNumbers": true,
   "eqNumInitial": 1,
   "hotkeys": {
    "equation": "Ctrl-E",
    "itemize": "Ctrl-I"
   },
   "labels_anchors": false,
   "latex_user_defs": false,
   "report_style_numbering": false,
   "user_envs_cfg": false
  },
  "toc": {
   "base_numbering": 1,
   "nav_menu": {},
   "number_sections": true,
   "sideBar": true,
   "skip_h1_title": false,
   "title_cell": "Table of Contents",
   "title_sidebar": "Contents",
   "toc_cell": false,
   "toc_position": {
    "height": "calc(100% - 180px)",
    "left": "10px",
    "top": "150px",
    "width": "220.75px"
   },
   "toc_section_display": true,
   "toc_window_display": false
  }
 },
 "nbformat": 4,
 "nbformat_minor": 2
}
