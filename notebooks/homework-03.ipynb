{
 "cells": [
  {
   "cell_type": "markdown",
   "metadata": {},
   "source": [
    "Engy-5310: Computational Continuum Transport Phenomena Spring 2021 UMass Lowell; Prof. V. F. de Almeida **07Feb21**\n",
    "\n",
    "# Homework 03 (08Feb21)\n",
    "\n",
    "$  \n",
    "  \\newcommand{\\Amtrx}{\\boldsymbol{\\mathsf{A}}}\n",
    "  \\newcommand{\\Bmtrx}{\\boldsymbol{\\mathsf{B}}}\n",
    "  \\newcommand{\\Mmtrx}{\\boldsymbol{\\mathsf{M}}}\n",
    "  \\newcommand{\\Imtrx}{\\boldsymbol{\\mathsf{I}}}\n",
    "  \\newcommand{\\Pmtrx}{\\boldsymbol{\\mathsf{P}}}\n",
    "  \\newcommand{\\Lmtrx}{\\boldsymbol{\\mathsf{L}}}\n",
    "  \\newcommand{\\Umtrx}{\\boldsymbol{\\mathsf{U}}}\n",
    "  \\newcommand{\\Smtrx}{\\boldsymbol{\\mathsf{S}}}\n",
    "  \\newcommand{\\xvec}{\\boldsymbol{\\mathsf{x}}}\n",
    "  \\newcommand{\\avec}{\\boldsymbol{\\mathsf{a}}}\n",
    "  \\newcommand{\\bvec}{\\boldsymbol{\\mathsf{b}}}\n",
    "  \\newcommand{\\cvec}{\\boldsymbol{\\mathsf{c}}}\n",
    "  \\newcommand{\\rvec}{\\boldsymbol{\\mathsf{r}}}\n",
    "  \\newcommand{\\fvec}{\\boldsymbol{\\mathsf{f}}}\n",
    "  \\newcommand{\\mvec}{\\boldsymbol{\\mathsf{m}}}\n",
    "  \\newcommand{\\gvec}{\\boldsymbol{\\mathsf{g}}}\n",
    "  \\newcommand{\\zerovec}{\\boldsymbol{\\mathsf{0}}}\n",
    "  \\newcommand{\\norm}[1]{\\bigl\\lVert{#1}\\bigr\\rVert}\n",
    "  \\newcommand{\\transpose}[1]{{#1}^\\top}\n",
    "  \\DeclareMathOperator{\\rank}{rank}\n",
    "  \\newcommand{\\Reals}{\\mathbb{R}}\n",
    "  \\newcommand{\\thetavec}{\\boldsymbol{\\theta}}\n",
    "$"
   ]
  },
  {
   "cell_type": "markdown",
   "metadata": {},
   "source": [
    "### Name: `your name`"
   ]
  },
  {
   "cell_type": "markdown",
   "metadata": {},
   "source": [
    "### Rubric for each assignment: \n",
    "\n",
    "|       Context               |  Points |\n",
    "| -----------------------     | ------- |\n",
    "| Precision of the answer     |   80%   |\n",
    "| Answer Markdown readability |   10%   |\n",
    "| Code readability            |   10%   |"
   ]
  },
  {
   "cell_type": "markdown",
   "metadata": {},
   "source": [
    "### <span style=\"color:red\">Guidance:</span>\n",
    "\n",
    "+  <span style=\"color:red\"> \n",
    "    Save your work frequently to a file locally to your computer.\n",
    "   </span>\n",
    "+  <span style=\"color:red\">\n",
    "    During your work and before submitting the final version do:</span> Kernel -> Restart & Run All<span style=\"color:red\">, to verify your notebook runs correctly.\n",
    "   </span>\n",
    "+  <span style=\"color:red\">\n",
    "    Save your file again.\n",
    "   </span>\n",
    "+  <span style=\"color:red\">\n",
    "    Upload the notebook file in the Blackboard submission portal as: \n",
    "   </span> \n",
    "   \n",
    "   **lastname-firstname-labwork-xx.ipynb**"
   ]
  },
  {
   "cell_type": "markdown",
   "metadata": {},
   "source": [
    "---\n",
    "## Table of Assignments<a id=\"toa\"></a>\n",
    "* [Assignment 1 (95 pts)](#a1) Function approximation with Lagrange polynomial basis functions.\n",
    " - [1.1)](#a11)(25 pts) Minimum 2-norm residual method proof.\n",
    " - [1.2)](#a12)(25 pts) Minimum 3-norm residual method proof.\n",
    " - [1.3)](#a13)(45 pts) Algorithm for the minimum 3-norm residual method.\n",
    "* [Assignment 2 (5 pts)](#a2) .\n",
    "---"
   ]
  },
  {
   "cell_type": "markdown",
   "metadata": {},
   "source": [
    "## <span style=\"color:blue\">[Assignment 1 (95 pts)](#toa)</span><a id=\"a1\"></a>"
   ]
  },
  {
   "cell_type": "markdown",
   "metadata": {},
   "source": [
    "### <span style=\"color:blue\">[1.1)](#toa)(25 pts) Prove the following about the least-squares method.</span>\n",
    "<br>\n",
    "<span style=\"color:blue\">\n",
    "As described by the theory of linear combination of basis functions approximation in this course, one choice for optimal combination of coefficients is the minimization of the sum of the squares of the residual vector\n",
    "\n",
    "\\begin{equation*}\n",
    " \\phi(\\tilde{\\cvec}^*) = \\min\\limits_{\\cvec\\,\\in\\,\\Reals^n} \\, \\norm{\\tilde{\\rvec}(\\cvec)}^2_2.\n",
    "\\end{equation*}\n",
    "\n",
    "Demonstrate that the optimum $\\tilde{\\cvec}^*$ is also the optimum of the 2-norm of the residual vector, that is the conventional magnitude\n",
    "\n",
    "\\begin{equation*}\n",
    " \\phi(\\tilde{\\cvec}^*) = \\min\\limits_{\\cvec\\,\\in\\,\\Reals^n} \\, \\norm{\\tilde{\\rvec}(\\cvec)}_2.\n",
    "\\end{equation*}\n",
    "\n",
    "Therefore the least-squares method delivers the residual with smallest 2-norm.\n",
    "</span><a id=\"a11\"></a>"
   ]
  },
  {
   "cell_type": "markdown",
   "metadata": {},
   "source": [
    "**Analytical mathematical proof:**"
   ]
  },
  {
   "cell_type": "markdown",
   "metadata": {},
   "source": [
    "### <span style=\"color:blue\">[1.2)](#toa)(25 pts) Prove the following about the least-cubes method:</span>\n",
    "<br>\n",
    "<span style=\"color:blue\">\n",
    "Demonstrate that the optimum $\\tilde{\\cvec}^*$ in the <b>least-cubes</b> method\n",
    "\n",
    "\\begin{equation*}\n",
    " \\phi(\\tilde{\\cvec}^*) = \\min\\limits_{\\cvec\\,\\in\\,\\Reals^n} \\, \\norm{\\tilde{\\rvec}(\\cvec)}^3_3,\n",
    "\\end{equation*}\n",
    "\n",
    "is also the optimum of the minimum 3-norm of the residual vector, that is the conventional magnitude\n",
    "\n",
    "\\begin{equation*}\n",
    " \\phi(\\tilde{\\cvec}^*) = \\min\\limits_{\\cvec\\,\\in\\,\\Reals^n} \\, \\norm{\\tilde{\\rvec}(\\cvec)}_3.\n",
    "\\end{equation*}\n",
    "\n",
    "Therefore the least-cubes method delivers the residual with smallest 3-norm.\n",
    "</span><a id=\"a12\"></a>"
   ]
  },
  {
   "cell_type": "markdown",
   "metadata": {},
   "source": [
    "**Analytical mathematical proof:**"
   ]
  },
  {
   "cell_type": "markdown",
   "metadata": {},
   "source": [
    "### <span style=\"color:blue\">[1.3)](#toa)(45 pts) Develop an algorithm for the least-cubes method:</span>\n",
    "<br>\n",
    "<span style=\"color:blue\">\n",
    "Describe and algorithm to compute the optimum $\\tilde{\\cvec}^*$ of the <b>least-cubes</b> residual\n",
    "\n",
    "\\begin{equation*}\n",
    " \\phi(\\tilde{\\cvec}^*) = \\min\\limits_{\\cvec\\,\\in\\,\\Reals^n} \\, \\norm{\\tilde{\\rvec}(\\cvec)}^3_3.\n",
    "\\end{equation*}\n",
    "\n",
    "</span><a id=\"a13\"></a>"
   ]
  },
  {
   "cell_type": "markdown",
   "metadata": {},
   "source": [
    "**Analytical algorithm:**"
   ]
  },
  {
   "cell_type": "markdown",
   "metadata": {},
   "source": [
    "## <span style=\"color:blue\">[Assignment 2 (5 pts)](#toa)</span><a id=\"a2\"></a>"
   ]
  },
  {
   "cell_type": "markdown",
   "metadata": {},
   "source": [
    "### <span style=\"color:blue\">Describe the most unclear point in the content presented so far. Then, make an effort to clarify the point on your own.</span>"
   ]
  },
  {
   "cell_type": "markdown",
   "metadata": {},
   "source": [
    "**Answer:**"
   ]
  }
 ],
 "metadata": {
  "kernelspec": {
   "display_name": "Python 3",
   "language": "python",
   "name": "python3"
  },
  "language_info": {
   "codemirror_mode": {
    "name": "ipython",
    "version": 3
   },
   "file_extension": ".py",
   "mimetype": "text/x-python",
   "name": "python",
   "nbconvert_exporter": "python",
   "pygments_lexer": "ipython3",
   "version": "3.8.7"
  },
  "latex_envs": {
   "LaTeX_envs_menu_present": true,
   "autoclose": false,
   "autocomplete": true,
   "bibliofile": "biblio.bib",
   "cite_by": "apalike",
   "current_citInitial": 1,
   "eqLabelWithNumbers": true,
   "eqNumInitial": 1,
   "hotkeys": {
    "equation": "Ctrl-E",
    "itemize": "Ctrl-I"
   },
   "labels_anchors": false,
   "latex_user_defs": false,
   "report_style_numbering": false,
   "user_envs_cfg": false
  }
 },
 "nbformat": 4,
 "nbformat_minor": 2
}
