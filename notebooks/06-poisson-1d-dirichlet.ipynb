{
 "cells": [
  {
   "cell_type": "markdown",
   "metadata": {},
   "source": [
    "ChEn-5310: Computational Continuum Transport Phenomena Spring 2021 UMass Lowell; Prof. V. F. de Almeida **05Mar21**\n",
    "\n",
    "# 06. Poisson 1D with Dirichlet Boundary Conditions\n",
    "$  \n",
    "  \\newcommand{\\Amtrx}{\\boldsymbol{\\mathsf{A}}}\n",
    "  \\newcommand{\\Bmtrx}{\\boldsymbol{\\mathsf{B}}}\n",
    "  \\newcommand{\\Mmtrx}{\\boldsymbol{\\mathsf{M}}}\n",
    "  \\newcommand{\\Imtrx}{\\boldsymbol{\\mathsf{I}}}\n",
    "  \\newcommand{\\Pmtrx}{\\boldsymbol{\\mathsf{P}}}\n",
    "  \\newcommand{\\Lmtrx}{\\boldsymbol{\\mathsf{L}}}\n",
    "  \\newcommand{\\Umtrx}{\\boldsymbol{\\mathsf{U}}}\n",
    "  \\newcommand{\\Smtrx}{\\boldsymbol{\\mathsf{S}}}\n",
    "  \\newcommand{\\xvec}{\\boldsymbol{\\mathsf{x}}}\n",
    "  \\newcommand{\\avec}{\\boldsymbol{\\mathsf{a}}}\n",
    "  \\newcommand{\\bvec}{\\boldsymbol{\\mathsf{b}}}\n",
    "  \\newcommand{\\cvec}{\\boldsymbol{\\mathsf{c}}}\n",
    "  \\newcommand{\\rvec}{\\boldsymbol{\\mathsf{r}}}\n",
    "  \\newcommand{\\fvec}{\\boldsymbol{\\mathsf{f}}}\n",
    "  \\newcommand{\\mvec}{\\boldsymbol{\\mathsf{m}}}\n",
    "  \\newcommand{\\gvec}{\\boldsymbol{\\mathsf{g}}}\n",
    "  \\newcommand{\\zerovec}{\\boldsymbol{\\mathsf{0}}}\n",
    "  \\newcommand{\\norm}[1]{\\bigl\\lVert{#1}\\bigr\\rVert}\n",
    "  \\newcommand{\\transpose}[1]{{#1}^\\top}\n",
    "  \\DeclareMathOperator{\\rank}{rank}\n",
    "  \\newcommand{\\Reals}{\\mathbb{R}}\n",
    "  \\newcommand{\\thetavec}{\\boldsymbol{\\theta}}\n",
    "$"
   ]
  },
  {
   "cell_type": "markdown",
   "metadata": {},
   "source": [
    "---\n",
    "\n",
    "## Table of Contents<a id=\"toc\"></a>\n",
    "* [Objectives](#obj)\n",
    "1. [Plotting Functions](#plotting)\n",
    "<br><br>\n",
    "1. [Essential Boundary Condition Case (Dirichlet)](#dbc)\n",
    " + [Strong Form of Problem Statement](#dbcstrong)\n",
    " + [Variational Form of Problem Statement](#dbcweak)\n",
    " + [Dirichlet Energy](#energy)\n",
    " + [Problem Setup](#dbcsetup)\n",
    "    - [Application](#dbcapp)\n",
    "    - [Code a Diffusion Term Kernel](#dbcdiff)\n",
    "    - [Code a Source Term Kernel](#dbcsource)\n",
    "    - [Compile and Link Application](#compile1)\n",
    "    - [Input File](#dbcinput)\n",
    "    - [Run Application](#dbcrun)\n",
    "<br><br>   \n",
    "1. [Linear Lagrange FEM Results](#dbclinearfemresults)\n",
    "    - [Compute Error](#linearerror)\n",
    "<br><br>    \n",
    "1. [Quadratic Lagrange FEM Results](#dbcquadfemresults)\n",
    "    - [Compute Error](#quaderror)\n",
    "<br><br>    \n",
    "1. [Diffusion Flux Postprocessing](#diffusionfluxpostpro)\n",
    "   - [Auxiliary Variable](#auxvar)\n",
    "   - [Use MOOSE Diffusion Flux Auxiliary Kernel](#auxdiffflux)\n",
    "   - [Compute Error](#difffluxerror1)\n",
    "   - [Code a Diffusion Flux Auxiliary Kernel](#auxdiffflux2)\n",
    "   - [Compile and Link Application](#compile2)\n",
    "   - [Compute Error](#difffluxerror2)\n",
    "<br><br>   \n",
    "1. [Energy Postprocessing](#energypostpro)\n",
    "   - [Code the Energy Postprocessor](#postpro)\n",
    "   - [Compile and Link Application](#compilelink2)\n",
    "   - [Input File](#energyinput)\n",
    "   - [Run Application](#runenergy)\n",
    "<br><br>   \n",
    "1. [Energy Results](#energyresults)\n",
    "   - [Compute Error](#energyerror)\n",
    "---"
   ]
  },
  {
   "cell_type": "markdown",
   "metadata": {},
   "source": [
    "## [Objectives](#toc)<a id=\"obj\"></a>\n",
    "\n",
    " + Begin using [`MOOSE`](https://mooseframework.inl.gov) to practice solving ODE's. Therefore access to a working [`MOOSE`](https://mooseframework.inl.gov) installation is necessary. Additional local information on installation for your computer setting can be found [here](https://github.com/UML-Linux-Club/moose-info).\n",
    " + Introduce the Galerkin variational (weak) form of the Poisson 1D problem below ([OneNote notes here](https://studentuml-my.sharepoint.com/:o:/g/personal/valmor_dealmeida_uml_edu/Eib-vZHIpRlPlOMtz0Gf_asBegEFKsl9dOK4nHyDbgSeUA?e=sLu1td)).\n",
    " + Introduce the use of the boundary condition known as Dirichlet boundary condition.\n",
    " + Use second order accurate finite element Lagrange basis functions to solve the problem numerically.\n",
    " + <span style=\"color:red\">Some initial code is provided in the course repository but no full source code is given out. If you do not do a minimum of programing you will not learn basic aspects of this subject. Hands-on work during lectures will fill in this gap. If you do all the steps proposed in this notebook and attend the working lectures you will only have an initial knowledge of the subject.</span>"
   ]
  },
  {
   "cell_type": "markdown",
   "metadata": {},
   "source": [
    "## [Plotting Functions](#toc)<a id=\"plotting\"></a>\n",
    "\n",
    "This is an auxiliary section for holding plotting functions used later."
   ]
  },
  {
   "cell_type": "code",
   "execution_count": 1,
   "metadata": {
    "code_folding": [
     2
    ]
   },
   "outputs": [],
   "source": [
    "'''Plot function for FEM Solution'''\n",
    "\n",
    "def plot_solution(df, \n",
    "                  title='No Title', \n",
    "                  basis_functions_type='No basis functions type',\n",
    "                  flux_basis_functions_type='No basis functions type'):\n",
    "    \n",
    "    import matplotlib.pyplot as plt\n",
    "    %matplotlib inline\n",
    "\n",
    "    (fig, ax1) = plt.subplots(1, figsize=(14, 5))\n",
    "\n",
    "    ax1.plot(df['x'], df['u'],'r*-',label=basis_functions_type)\n",
    "\n",
    "    ax1.set_xlabel(r'$x [cm]$', fontsize=18)\n",
    "    ax1.set_ylabel(r'$u_h(x)$ [g/cc]', fontsize=18, color='red')\n",
    "    ax1.tick_params(axis='y', labelcolor='red', labelsize=14)\n",
    "    ax1.tick_params(axis='x', labelsize=14)\n",
    "    ax1.legend(loc='center left', fontsize=12)\n",
    "    #ax1.set_ylim(0,1)\n",
    "    ax1.grid(True)\n",
    "\n",
    "    if 'diffFluxU_x' in df.columns:\n",
    "        # create a twin x axis to be shared\n",
    "        ax2 = ax1.twinx()\n",
    "\n",
    "        ax2.plot(df['x'], df['diffFluxU_x'],'b*-',label=flux_basis_functions_type)\n",
    "\n",
    "        ax2.set_ylabel(r\"$q_h(x)$ [g/cm2-s]\",fontsize=16,color='blue')\n",
    "        ax2.tick_params(axis='y', labelcolor='blue', labelsize=14)\n",
    "        ax2.legend(loc='center right',fontsize=12)\n",
    "        #ax2.set_ylim(0,2)\n",
    "        #ax2.grid(True)\n",
    "\n",
    "    plt.title(title, fontsize=20)\n",
    "    fig.tight_layout()  # otherwise the right y-label is slightly clipped\n",
    "    plt.show()\n",
    "    print('')"
   ]
  },
  {
   "cell_type": "code",
   "execution_count": 2,
   "metadata": {
    "code_folding": [
     2
    ]
   },
   "outputs": [],
   "source": [
    "'''Plot Function for Error Compared to Exact Dimensionless Solution'''\n",
    "\n",
    "def plot_solution_error(df, fem_type='No FEM type'):\n",
    "    \n",
    "    from engy_5310.toolkit import engy5310_p1_exact_solution\n",
    "\n",
    "    import matplotlib.pyplot as plt\n",
    "    %matplotlib inline\n",
    "    \n",
    "    (u_hat, _, _) = engy5310_p1_exact_solution(x_a, x_b, u_a, u_b, diff_coeff, source_s)\n",
    "\n",
    "    L = df['x'].max() - df['x'].min()\n",
    "    x_mean = (df['x'].max() + df['x'].min())/2.0\n",
    "    x_hat = (df['x'] - x_mean)/L\n",
    "    a_hat = u_a/source_s*diff_coeff/L**2\n",
    "    b_hat = u_b/source_s*diff_coeff/L**2\n",
    "\n",
    "    uh_hat = df['u']/source_s*diff_coeff/L**2\n",
    "\n",
    "    plt.figure(1, figsize=(14, 5))\n",
    "    \n",
    "    plt.plot(x_hat, uh_hat,'r-*',label=fem_type)\n",
    "    \n",
    "    plt.plot(x_hat, u_hat(x_hat, a_hat, b_hat),'bx',label='Exact Solution')\n",
    "\n",
    "    plt.plot(x_hat, uh_hat-u_hat(x_hat, a_hat, b_hat),'x',color='magenta',label=r'$\\hat{u}_h-\\hat{u}$')\n",
    "    \n",
    "    plt.title('Dimensionless FEM Solution and Error', fontsize=20)\n",
    "    plt.ylabel(r'$\\hat{u}_h, \\hat{u}$', fontsize=18)\n",
    "    plt.xlabel(r'$\\hat{x}$', fontsize=18)\n",
    "    plt.xticks(fontsize=16)\n",
    "    plt.yticks(fontsize=16)\n",
    "    plt.legend(loc='best',fontsize=12)\n",
    "    plt.grid(True)\n",
    "    plt.show()"
   ]
  },
  {
   "cell_type": "code",
   "execution_count": 3,
   "metadata": {
    "code_folding": [
     2
    ]
   },
   "outputs": [],
   "source": [
    "'''Plot Function for Error Compared to Exact Dimensionless Solution'''\n",
    "\n",
    "def plot_flux_error(df, fem_type='No FEM type'):\n",
    "    \n",
    "    from engy_5310.toolkit import engy5310_p1_exact_solution\n",
    "        \n",
    "    import matplotlib.pyplot as plt\n",
    "    %matplotlib inline\n",
    "    \n",
    "    (_, flux_hat, _) = engy5310_p1_exact_solution(x_a, x_b, u_a, u_b, diff_coeff, source_s)\n",
    "\n",
    "    L = df['x'].max() - df['x'].min()\n",
    "    x_mean = (df['x'].max() + df['x'].min())/2.0\n",
    "    x_hat = (df['x'] - x_mean)/L\n",
    "    \n",
    "    a_hat = u_a/source_s*diff_coeff/L**2\n",
    "    b_hat = u_b/source_s*diff_coeff/L**2\n",
    "\n",
    "    flux_h_hat = df['diffFluxU_x']/source_s/L\n",
    "\n",
    "    plt.figure(1, figsize=(14, 5))\n",
    "    \n",
    "    plt.plot(x_hat, flux_h_hat,'r-*',label=fem_type)\n",
    "    \n",
    "    plt.plot(x_hat, flux_hat(x_hat, a_hat, b_hat),'bx',label='Exact Solution')\n",
    "\n",
    "    plt.plot(x_hat, flux_h_hat-flux_hat(x_hat, a_hat, b_hat),'x',color='magenta',label=r'$\\hat{u}_h-\\hat{u}$')\n",
    "    \n",
    "    plt.title('Dimensionless FEM Solution and Error', fontsize=20)\n",
    "    plt.ylabel(r'$\\hat{u}_h, \\hat{u}$', fontsize=18)\n",
    "    plt.xlabel(r'$\\hat{x}$', fontsize=18)\n",
    "    plt.xticks(fontsize=16)\n",
    "    plt.yticks(fontsize=16)\n",
    "    plt.legend(loc='best',fontsize=12)\n",
    "    plt.grid(True)\n",
    "    plt.show()"
   ]
  },
  {
   "cell_type": "markdown",
   "metadata": {},
   "source": [
    "## [Essential Boundary Condition Case (Dirichlet )](#toc)<a id=\"dbc\"></a>\n",
    "\n",
    "This section outlines the steps to obtain a working numerical solution of the Poisson 1D problem when using *Dirichlet boundary conditions*. The latter are conditions where a value of the unknown at the boundary points is given. This is also called an *essential* boundary condition."
   ]
  },
  {
   "cell_type": "markdown",
   "metadata": {},
   "source": [
    "### [Strong Form of Problem Statement](#toc)<a id=\"dbcstrong\"></a>\n",
    "\n",
    "Solve the Poisson model problem. Find $u:[a,b]\\in\\Reals\\rightarrow\\Reals$ for $D > 0$ such that:\n",
    "\n",
    "\\begin{align*}\n",
    " -\\bigl(-D\\, u'\\bigr)'(x) + S &= 0 \\quad \\forall \\quad x\\in [a,b], \\\\\n",
    " u(a) &= A, \\\\\n",
    " u(b) &= B.\n",
    "\\end{align*}\n",
    "   \n",
    "Solve this problem analytically for constants: diffusion coefficient, $D$, source, $S$, entry concentration, $A$, and exit concentration $B$.The *flux* associated to the quantity $u$, is denoted $q := -D\\,u'$, and it is often of interest as a derived quantity."
   ]
  },
  {
   "cell_type": "markdown",
   "metadata": {},
   "source": [
    "### [Variational Form of Problem Statement](#toc)<a id=\"dbcweak\"></a>\n",
    "\n",
    "The Galerkin variational formulation is as follows. Find $u \\in H^1\\!\\bigl([a,b]\\bigr)$ so that \n",
    "\n",
    "\\begin{align*}\n",
    " \\int\\limits_a^b -D\\, u'(x)\\,v'(x)\\,dx + \\int\\limits_a^b S\\,v(x)\\,dx &= 0 \\quad \\forall \\quad v \\in H^1_0\\!\\bigl([a,b]\\bigr), \n",
    "\\end{align*}\n",
    "\n",
    "where $H^1\\!\\bigl([a,b]\\bigr) := \\bigl\\{ u:[a,b]\\in\\Reals\\rightarrow \\Reals \\mid \\int_a^b u'^2\\,dx < \\infty \\bigr\\}$ and \n",
    "$H^1_0\\!\\bigl([a,b]\\bigr) := \\bigl\\{ v \\mid v \\in H^1(a,b), v(a) = 0, v(b) =0 \\bigr\\}$. Both function sets as just defined are Hilbert spaces. The function $v$ is called a test function. Because $v$ and $u$ are sought in very similar sets of functions, this variational form is called Galerkin's variational form.\n",
    "\n",
    "The two integrals in the variational formulation are the key terms to be computed. Since the MOOSE framework performs the integration, and provides the implementation of the test function, we need to provide the integrand of the integrals, that is, the kernels. Therefore the kernels needed are:\n",
    "\n",
    " 1. $-D\\, u'(x)\\,v'(x)$ ,\n",
    " 1. $S\\,v(x)$.\n",
    " \n",
    "The kernels are to be evaluated at quadrature points provided by the MOOSE framework."
   ]
  },
  {
   "cell_type": "markdown",
   "metadata": {},
   "source": [
    "### [Dirichlet Energy](#toc)<a id=\"energy\"></a>\n",
    "\n",
    "It is of theoretical and practical importance to compute the associated energy that the variational form minimizes, that is the **Dirichlet total energy**:\n",
    "\n",
    "\\begin{align*}\n",
    " \\Phi[u] := \\int\\limits_a^b \\,\\frac{1}{2}\\bigl(q(x)\\bigr)^2 - D\\,S\\,u(x) \\,dx.\n",
    "\\end{align*}\n",
    "\n",
    "Since this is done after the solution is computed, it is characterized as a *postprocessing* operation. In `MOOSE` this is implemented in a *Postprocessors*. First however, any derived quantity used in the integrand needs to be passed to the preprocessor for integration. Here we need to compute the local *flux*, $q$. In `MOOSE` this is done by creating an *auxiliary* variable and a corresponding *auxiliary kernel*. Therefore there are two additional components to [setup](#energypostpro):\n",
    "\n",
    "1. Create the auxiliary variable $q=-D\\,u'$,\n",
    "1. Create the posprocessor for computing $\\Phi$."
   ]
  },
  {
   "cell_type": "markdown",
   "metadata": {},
   "source": [
    "### [Problem Setup](#toc)<a id=\"dbcsetup\"></a>\n",
    "\n",
    "We need to create a MOOSE *application* with two MOOSE *kernels* and an *input* file. The ODE problem has a diffusion and a source term. Therefore a good way to proceed is to have two MOOSE kernels coded in C++ programming language. In the input file we will tell `MOOSE` to **add** the contribution of these kernels by simply listing them in a *[Kernels] block* in the input file (see below)."
   ]
  },
  {
   "cell_type": "markdown",
   "metadata": {},
   "source": [
    "#### [MOOSE App Creation](#toc)<a id=\"dbcapp\"></a>\n",
    "\n",
    "1. Make sure `MOOSE` has been installed an there was *no failed* tests.\n",
    "1. `cd ~/moose`\n",
    "1. `cd ..`\n",
    "1. `./moose/scripts/stork.sh Engy5310P1`\n",
    "1. Disregard the `github` setup\n",
    "1. `cd engy5310p1`\n",
    "1. `make`\n",
    "1. `./run_tests`\n",
    "1. `cp test/tests/kernels/simple_diffusion/simple_diffusion.i input.i`\n",
    "1. Cleanup: `rm -rf test/, unit/, doc/, scripts/, and run_tests`\n",
    "1. Edit `src/main.C`\n",
    " - Replace `Engy5310P1TestApp` with `Engy5310P1App`\n",
    "1. `make clean`\n",
    "1. `make`\n",
    "1. If all went successful then there is a executable file created named `engy5310p1-opt`.\n",
    "1. This executable should be run on the command line by issuing the `bash` command:\n",
    " + `./engy5310p1-opt -i input.i`\n",
    "1. Use [`VisIt`](https://wci.llnl.gov/simulation/computer-codes/visit) or `Paraview` to visualize `test_out.e`"
   ]
  },
  {
   "cell_type": "markdown",
   "metadata": {},
   "source": [
    "#### [Code a Diffusion Term Kernel](#toc)<a id=\"dbcdiff\"></a>\n",
    "\n",
    "1. Starting from the project home directory.\n",
    "1. `cd include`\n",
    "1. `mkdir kernels`\n",
    "1. `cd kernels`\n",
    "1. Create a `DiffusionTerm.h` class interface as folows:\n",
    " + Use the `EquationTerm.h` [course template](https://github.com/dpploy/engy-5310/blob/main/moose-app-templates/EquationTerm.h) as follows:\n",
    " + `cp *path-to*/moose-app-templates/EquationTerm.h .`\n",
    " + `mv EquationTerm.h DiffusionTerm.h`\n",
    " + Edit the file `DiffusionTerm.h` with a text editor by replacing all instances of `EquationTerm` with `DiffusionTerm`.\n",
    " + You will need to declare a member variable named `_diffCoeff` as `Real` data type.\n",
    "1. `cd ../..`\n",
    "1. `cd src`\n",
    "1. `mkdir kernels`\n",
    "1. `cd kernels`\n",
    "1. Create a `DiffusionTerm.C` class implementation as follows:\n",
    " + Use the `EquationTerm.C` [course template](https://github.com/dpploy/engy-5310/blob/main/moose-app-templates/EquationTerm.C) as follows.\n",
    " + `cp *path-to*/moose-app-templates/EquationTerm.C .`\n",
    " + `mv EquationTerm.C DiffusionTerm.C`\n",
    " + Edit the file `DiffusionTerm.C` with a text editor by replacing all instances of `EquationTerm` with `DiffusionTerm`.\n",
    " + You will need to program the *residual* and *Jacobian* methods. <span style=\"color:red\">This portion of the implementation is convered in class.</span>"
   ]
  },
  {
   "cell_type": "markdown",
   "metadata": {},
   "source": [
    "#### [Code a Source Term Kernel](#toc)<a id=\"dbcsource\"></a>\n",
    "\n",
    "1. Starting from the project home directory.\n",
    "1. `cd include`\n",
    "1. `mkdir kernels`\n",
    "1. Create a `SourceTerm.h` class interface following similar steps as done for the `DiffusionTerm.h` interface.\n",
    " + Use the `EquationTerm.h` course template.\n",
    " + You will need to declare a member variable named `_sourceS` as `Real` data type.\n",
    "1. Create a `SourceTerm.C` class implementation likewise.\n",
    " + Use the `EquationTerm.C` course template.\n",
    " + You will need to program the *residual* and *Jacobian* methods. <span style=\"color:red\">This portion of the implementation is covered in class.</span>"
   ]
  },
  {
   "cell_type": "markdown",
   "metadata": {},
   "source": [
    "#### [Compile and Link Application](#toc)<a id=\"compile1\"></a>\n",
    "\n",
    "1. Make sure you are in the problem project:\n",
    " +  `cd ../..`\n",
    " + `pwd`\n",
    "1. You should see: `..../engy5310p1`\n",
    "1. Compile and link the application\n",
    " + `make`\n",
    "1. If all is sucessfull you should see among other things in the screen output:\n",
    " + Linking Library `.../engy5310p1/lib/libengy5310p1-opt.la...`\n",
    " + Linking Executable `.../engy5310p1/engy5310p1-opt...`"
   ]
  },
  {
   "cell_type": "markdown",
   "metadata": {},
   "source": [
    "#### [Input File](#toc)<a id=\"dbcinput\"></a>\n",
    "\n",
    "Any line in the \"blocked `MOOSE` input format information below\" without a comment (any text to the righ of *#*) refers to a `MOOSE` framework parameter. Consult the documentation for further info on these parameters. All user-app parameters for this problem are described with comments below. Use the content below to create an `input.i` input file. That is, using a text editor copy and paste the content below into a new file and save it as a `text` file format with name `input.i`.\n",
    "\n",
    "The *[VectorPosprocessors]* block in the `input.i` file below, in conjuction with the *[Outputs]* block, instructs `MOOSE` to create simple plotting data in an output file for visualization of the solution.\n",
    "\n",
    "Some additional info on `MOOSE` Hierarchical Input Text (HIT) syntax can be found [here](https://mooseframework.inl.gov/application_usage/input_syntax.html).\n",
    "```\n",
    "[Mesh]\n",
    " [1d]                                # any lower case name; this is our 1D block\n",
    "  type = GeneratedMeshGenerator  \n",
    "  dim = 1 \n",
    "  xmin = 0 \n",
    "  xmax = 25\n",
    "  nx = 3 \n",
    " []\n",
    "[]\n",
    "\n",
    "[Variables]\n",
    " [u]                                 # our unknown variable to be related to below\n",
    "  order = first\n",
    "  family = lagrange\n",
    " []\n",
    "[]\n",
    "\n",
    "[Kernels]\n",
    " [diffusion-term]                    # our diffusion term kernel implemented in the app\n",
    "  type = DiffusionTerm               # our name for the diffusion kernel C++ class\n",
    "  variable = u                       # our unknown variable from the [Variables] block\n",
    "  diffCoeff = 1.00000e-01            # our defined diffusion coefficient C++ variable\n",
    " []\n",
    " [source-term]                       # our source term kernel implemented in the app\n",
    "  type = SourceTerm                  # our name for the source kernel C++ class\n",
    "  variable = u                       # our unknown variable from the [Variables] block\n",
    "  sourceS = 1.0000e-03               # our defined source constant C++ variable\n",
    " []\n",
    "[]\n",
    "\n",
    "[BCs]\n",
    " [entry]                             # our name for the left side of the boundary of the domain\n",
    "  type = DirichletBC\n",
    "  variable = u                       # our unknown variable from the [Variables] block\n",
    "  boundary = left\n",
    "  value = 3.00000e+00\n",
    " []\n",
    " [exit]                              # our name for the left side of the boundary of the domain\n",
    "  type = DirichletBC\n",
    "  variable = u                       # our unknown variable from the [Variables] block\n",
    "  boundary = right\n",
    "  value = 0.0\n",
    " []\n",
    "[]\n",
    "\n",
    "[Executioner]\n",
    " type = Steady\n",
    " solve_type = 'PJFNK'\n",
    " petsc_options_iname = '-pc_type -pc_hypre_type'\n",
    " petsc_options_value = 'hypre boomeramg'\n",
    "[]\n",
    "\n",
    "[VectorPostprocessors]\n",
    " [u]                                 # our unknown variable\n",
    "  type = LineValueSampler\n",
    "  execute_on = 'timestep_end final'\n",
    "  variable = 'u'                     # our unknown variable from the [Variables] block\n",
    "  start_point = '0 0 0'\n",
    "  end_point = '25 0 0'\n",
    "  num_points = 7\n",
    "  sort_by = id\n",
    " []\n",
    "[]\n",
    "\n",
    "[Outputs]\n",
    " [csv]                              # our choice for data output: tabular\n",
    "  type = CSV\n",
    "  file_base = 'output'\n",
    "  execute_on = 'final'\n",
    " []\n",
    "[]\n",
    "\n",
    "```\n",
    "Save the input file in the `.../engy5310p1/` directory."
   ]
  },
  {
   "cell_type": "markdown",
   "metadata": {},
   "source": [
    "<div class=\"alert alert-block alert-info\">\n",
    "The development so far will allow you to solve the Poisson 1D problem as stated without computing the total energy. You should run the application at this point for testing and experimenting with the parameters and your implementation.\n",
    "</div>"
   ]
  },
  {
   "cell_type": "markdown",
   "metadata": {},
   "source": [
    "#### [Run Application](#toc)<a id=\"dbcrun\"></a>\n",
    "\n",
    "1. In the `engy5310p1/` directory run the application with the Linux shell command:\n",
    " + `./engy5310p1-opt -i input.i`\n",
    "2. Compare your results with this notebook results below.\n",
    "3. Return here to follow instructions on how to implement the calculation of the total energy."
   ]
  },
  {
   "cell_type": "markdown",
   "metadata": {},
   "source": [
    "### [Linear Lagrange FEM](#toc)<a id=\"dbclinearfemresults\"></a>\n",
    "\n",
    "Solve problem with parameter values:\n",
    "\n",
    "> + a = 0 cm\n",
    "> + b = 25 cm\n",
    "> + A = 3 g/cc\n",
    "> + B = 0 g/cc\n",
    "> + D = 0.1 cm^2/s\n",
    "> + S = 1e-3 g/cc-s\n",
    "\n",
    "FEM parameters:\n",
    "\n",
    "> + Basis Functions: First Order Lagrangian\n",
    "> + num. of finite elements: 3"
   ]
  },
  {
   "cell_type": "code",
   "execution_count": 4,
   "metadata": {},
   "outputs": [],
   "source": [
    "'''FEM Solution'''\n",
    "\n",
    "x_a = 0\n",
    "x_b = 25\n",
    "u_a = 3\n",
    "u_b = 0\n",
    "\n",
    "diff_coeff = 0.1\n",
    "source_s = 1e-3\n",
    "\n",
    "n_felem = 3\n",
    "order = 'first'\n",
    "n_plot_pts = 2*n_felem + 1\n",
    "n_plot_pts = 20\n",
    "\n",
    "from engy_5310.toolkit import write_engy5310_p1_input_file\n",
    "\n",
    "write_engy5310_p1_input_file(x_a, x_b, u_a=u_a, u_b=u_b, \n",
    "                             diff_coeff=diff_coeff, source_s=source_s, n_felem=n_felem, order=order, \n",
    "                             n_plot_pts=n_plot_pts)"
   ]
  },
  {
   "cell_type": "code",
   "execution_count": 5,
   "metadata": {
    "scrolled": true
   },
   "outputs": [
    {
     "name": "stdout",
     "output_type": "stream",
     "text": [
      "# Engy-5310 Problem 1: Poisson 1D FEM\r\n",
      "# UMass Lowell Nuclear Chemical Engineering\r\n",
      "# Prof. Valmor F. de Almeida\r\n",
      "# 08Mar21 21:08:21\r\n",
      "\r\n",
      "# Parameters\r\n",
      "xmin = 0.00000e+00\r\n",
      "xmax = 2.50000e+01\r\n",
      "diff_coeff = 1.00000e-01\r\n",
      "source_s = 1.00000e-03\r\n",
      "\r\n",
      "[Mesh]\r\n",
      "  [1d]\r\n",
      "    type = GeneratedMeshGenerator\r\n",
      "    dim = 1\r\n",
      "    xmin = ${replace xmin}\r\n",
      "    xmax = ${replace xmax}\r\n",
      "    nx = 3\r\n",
      "  []\r\n",
      "[]\r\n",
      "\r\n",
      "[Variables]\r\n",
      "  [u]\r\n",
      "    order = first\r\n",
      "    family = lagrange\r\n",
      "  []\r\n",
      "[]\r\n",
      "\r\n",
      "[Kernels]\r\n",
      "  [diffusion-term]\r\n",
      "    type = DiffusionTerm\r\n",
      "    variable = u     # produced quantity\r\n",
      "    diffCoeff = ${replace diff_coeff}\r\n",
      "  []\r\n",
      "  [source-term]\r\n",
      "    type = SourceTerm\r\n",
      "    variable = u     # add to produced quantity\r\n",
      "    sourceS = ${replace source_s}\r\n",
      "  []\r\n",
      "[]\r\n",
      "\r\n",
      "[BCs]\r\n",
      "  [entry]\r\n",
      "    type = DirichletBC\r\n",
      "    variable = u\r\n",
      "    boundary = left\r\n",
      "    value = 3.00000e+00\r\n",
      "  []\r\n",
      "  [exit]\r\n",
      "    type = DirichletBC\r\n",
      "    variable = u\r\n",
      "    boundary = right\r\n",
      "    value = 0.00000e+00\r\n",
      "  []\r\n",
      "[]\r\n",
      "\r\n",
      "[Executioner]\r\n",
      "  type = Steady\r\n",
      "  solve_type = 'PJFNK'\r\n",
      "  petsc_options_iname = '-pc_type -pc_hypre_type'\r\n",
      "  petsc_options_value = 'hypre boomeramg'\r\n",
      "[]\r\n",
      "\r\n",
      "\r\n",
      "[VectorPostprocessors]\r\n",
      "  [x-data]\r\n",
      "    type = LineValueSampler\r\n",
      "    execute_on = 'timestep_end final'\r\n",
      "    variable = 'u'    # output data\r\n",
      "    start_point = '${replace xmin} 0 0'\r\n",
      "    end_point = '${replace xmax} 0 0'\r\n",
      "    num_points = 20\r\n",
      "    sort_by = id\r\n",
      "  []\r\n",
      "[]\r\n",
      "\r\n",
      "[Outputs]\r\n",
      "  console = true\r\n",
      "  [file-x-data]\r\n",
      "    type = CSV\r\n",
      "    file_base = 'output'\r\n",
      "    execute_on = 'final'\r\n",
      "    show = 'x-data'\r\n",
      "  []\r\n",
      "[]\r\n"
     ]
    }
   ],
   "source": [
    "'''Display MOOSE input file created'''\n",
    "\n",
    "!cat engy5310p1/new_input.i"
   ]
  },
  {
   "cell_type": "code",
   "execution_count": 6,
   "metadata": {
    "scrolled": true
   },
   "outputs": [
    {
     "name": "stdout",
     "output_type": "stream",
     "text": [
      "\r\n",
      "\r\n",
      "Framework Information:\r\n",
      "MOOSE Version:           git commit 6fac045ef1 on 2021-02-25\r\n",
      "LibMesh Version:         ed76100f41840c34c146dd0a7f1ff5410370b489\r\n",
      "PETSc Version:           3.13.5\r\n",
      "SLEPc Version:           3.13.3\r\n",
      "Current Time:            Mon Mar  8 21:08:21 2021\r\n",
      "Executable Timestamp:    Sat Mar  6 13:25:00 2021\r\n",
      "\r\n",
      "Parallelism:\r\n",
      "  Num Processors:          1\r\n",
      "  Num Threads:             1\r\n",
      "\r\n",
      "Mesh: \r\n",
      "  Parallel Type:           replicated\r\n",
      "  Mesh Dimension:          1\r\n",
      "  Spatial Dimension:       1\r\n",
      "  Nodes:                   \r\n",
      "    Total:                 4\r\n",
      "    Local:                 4\r\n",
      "  Elems:                   \r\n",
      "    Total:                 3\r\n",
      "    Local:                 3\r\n",
      "  Num Subdomains:          1\r\n",
      "  Num Partitions:          1\r\n",
      "\r\n",
      "Nonlinear System:\r\n",
      "  Num DOFs:                4\r\n",
      "  Num Local DOFs:          4\r\n",
      "  Variables:               \"u\" \r\n",
      "  Finite Element Types:    \"LAGRANGE\" \r\n",
      "  Approximation Orders:    \"FIRST\" \r\n",
      "\r\n",
      "Execution Information:\r\n",
      "  Executioner:             Steady\r\n",
      "  Solver Mode:             Preconditioned JFNK\r\n",
      "  PETSc Preconditioner:    hypre boomeramg \r\n",
      "\r\n",
      " 0 Nonlinear |R| = \u001b[32m4.510974e-02\u001b[39m\r\n",
      "      0 Linear |R| = \u001b[32m4.510974e-02\u001b[39m\r\n",
      "      1 Linear |R| = \u001b[32m4.107140e-12\u001b[39m\r\n",
      " 1 Nonlinear |R| = \u001b[32m1.244607e-10\u001b[39m\r\n",
      "\u001b[32m Solve Converged!\u001b[39m\r\n"
     ]
    }
   ],
   "source": [
    "'''Run Engy5310P1 MOOSE App'''\n",
    "\n",
    "!engy5310p1/engy5310p1-opt -i engy5310p1/new_input.i"
   ]
  },
  {
   "cell_type": "code",
   "execution_count": 7,
   "metadata": {
    "code_folding": [
     2
    ]
   },
   "outputs": [
    {
     "data": {
      "image/png": "[encoded data removed]",
      "text/plain": [
       "<Figure size 1008x360 with 1 Axes>"
      ]
     },
     "metadata": {
      "needs_background": "light"
     },
     "output_type": "display_data"
    },
    {
     "name": "stdout",
     "output_type": "stream",
     "text": [
      "\n"
     ]
    }
   ],
   "source": [
    "'''Show FEM Solution'''\n",
    "\n",
    "import pandas as pd\n",
    "df = pd.read_csv('output_x-data_0002.csv')\n",
    "    \n",
    "plot_solution(df, title='Dirichlet BC FEM Solution', basis_functions_type='Linear Lagrange', flux_basis_functions_type='Constant Monomial')"
   ]
  },
  {
   "cell_type": "markdown",
   "metadata": {},
   "source": [
    "**Comments:**\n",
    "\n",
    "1. The *concentration* drops from the entry value to the exit as prescribed by the boundary conditions.\n",
    "1. Because of the source term the profile is quadratic.\n",
    "1. Since the linear Lagrange basis functions are used with 3 finite elements, 3 linear sections approximate the solution.\n",
    "1. The diffusion flux is positive everywhere, $q(x) >0$, since the normal diffusion flux on the left boundary is $q_n(a) := -q(a)$, then there is *feed* on the left boundary. On the right boundary $q_n(b) := q(b) > 0$ and there is *draining* at $x=b$."
   ]
  },
  {
   "cell_type": "markdown",
   "metadata": {},
   "source": [
    "#### [FEM Error](#toc)<a id=\"linearerror\"></a>\n"
   ]
  },
  {
   "cell_type": "code",
   "execution_count": 8,
   "metadata": {},
   "outputs": [
    {
     "data": {
      "image/png": "[encoded data removed]",
      "text/plain": [
       "<Figure size 1008x360 with 1 Axes>"
      ]
     },
     "metadata": {
      "needs_background": "light"
     },
     "output_type": "display_data"
    }
   ],
   "source": [
    "'''Error Compared to Exact Dimensionless Solution'''\n",
    "\n",
    "plot_solution_error(df, fem_type='FEM Linear Lagrange')"
   ]
  },
  {
   "cell_type": "markdown",
   "metadata": {},
   "source": [
    "**Comments:**\n",
    "\n",
    "1. Error as compared to the exact dimensionless solution is zero at the boundary of the linear sections but not in between.\n",
    "1. Even with linear Lagrange basis functions the error is relatively small and a proof that the use of basis functions of compact support is attractive."
   ]
  },
  {
   "cell_type": "markdown",
   "metadata": {},
   "source": [
    "### [Quadratic Lagrange FEM](#toc)<a id=\"dbcquadfemresults\"></a>\n",
    "\n",
    "Solve problem with parameter values:\n",
    "\n",
    "> + a = 0 cm\n",
    "> + b = 25 cm\n",
    "> + A = 3 g/cc\n",
    "> + B = 0 g/cc\n",
    "> + D = 0.1 cm^2/s\n",
    "> + S = 1e-3 g/cc-s\n",
    "\n",
    "FEM parameters:\n",
    "\n",
    "> + Basis Functions: Second Order Lagrangian\n",
    "> + num. of finite elements: 1"
   ]
  },
  {
   "cell_type": "markdown",
   "metadata": {},
   "source": [
    "The input file needs changes to select the higher order approximation:\n",
    "\n",
    "```\n",
    "[Mesh]\n",
    " [1d]                                # any lower case name; this is our 1D block\n",
    "  type = GeneratedMeshGenerator  \n",
    "  dim = 1 \n",
    "  xmin = 0 \n",
    "  xmax = 25\n",
    "  nx = 1 \n",
    "  elem_type = edge3                  # this goes with the second order Lagrange basis functions below\n",
    " []\n",
    "[]\n",
    "\n",
    "[Variables]\n",
    " [u]                                 # our unknown variable to be related to below\n",
    "  order = second                     # MOOSE second order Lagrange basis functions\n",
    "  family = lagrange\n",
    " []\n",
    "[]\n",
    "```"
   ]
  },
  {
   "cell_type": "code",
   "execution_count": 9,
   "metadata": {},
   "outputs": [],
   "source": [
    "'''FEM Solution'''\n",
    "\n",
    "x_a = 0\n",
    "x_b = 25\n",
    "u_a = 3\n",
    "u_b = 0\n",
    "\n",
    "diff_coeff = 0.1\n",
    "source_s = 1e-3\n",
    "\n",
    "n_felem = 1\n",
    "order = 'second'\n",
    "#n_plot_pts = 2*n_felem + 1\n",
    "n_plot_pts = 20\n",
    "\n",
    "from engy_5310.toolkit import write_engy5310_p1_input_file\n",
    "\n",
    "write_engy5310_p1_input_file(x_a, x_b, u_a=u_a, u_b=u_b, \n",
    "                             diff_coeff=diff_coeff, source_s=source_s, n_felem=n_felem, order=order, \n",
    "                             n_plot_pts=n_plot_pts)"
   ]
  },
  {
   "cell_type": "code",
   "execution_count": 10,
   "metadata": {
    "scrolled": true
   },
   "outputs": [
    {
     "name": "stdout",
     "output_type": "stream",
     "text": [
      "# Engy-5310 Problem 1: Poisson 1D FEM\r\n",
      "# UMass Lowell Nuclear Chemical Engineering\r\n",
      "# Prof. Valmor F. de Almeida\r\n",
      "# 08Mar21 21:08:23\r\n",
      "\r\n",
      "# Parameters\r\n",
      "xmin = 0.00000e+00\r\n",
      "xmax = 2.50000e+01\r\n",
      "diff_coeff = 1.00000e-01\r\n",
      "source_s = 1.00000e-03\r\n",
      "\r\n",
      "[Mesh]\r\n",
      "  [1d]\r\n",
      "    type = GeneratedMeshGenerator\r\n",
      "    dim = 1\r\n",
      "    xmin = ${replace xmin}\r\n",
      "    xmax = ${replace xmax}\r\n",
      "    nx = 1\r\n",
      "    elem_type = edge3\r\n",
      "  []\r\n",
      "[]\r\n",
      "\r\n",
      "[Variables]\r\n",
      "  [u]\r\n",
      "    order = second\r\n",
      "    family = lagrange\r\n",
      "  []\r\n",
      "[]\r\n",
      "\r\n",
      "[Kernels]\r\n",
      "  [diffusion-term]\r\n",
      "    type = DiffusionTerm\r\n",
      "    variable = u     # produced quantity\r\n",
      "    diffCoeff = ${replace diff_coeff}\r\n",
      "  []\r\n",
      "  [source-term]\r\n",
      "    type = SourceTerm\r\n",
      "    variable = u     # add to produced quantity\r\n",
      "    sourceS = ${replace source_s}\r\n",
      "  []\r\n",
      "[]\r\n",
      "\r\n",
      "[BCs]\r\n",
      "  [entry]\r\n",
      "    type = DirichletBC\r\n",
      "    variable = u\r\n",
      "    boundary = left\r\n",
      "    value = 3.00000e+00\r\n",
      "  []\r\n",
      "  [exit]\r\n",
      "    type = DirichletBC\r\n",
      "    variable = u\r\n",
      "    boundary = right\r\n",
      "    value = 0.00000e+00\r\n",
      "  []\r\n",
      "[]\r\n",
      "\r\n",
      "[Executioner]\r\n",
      "  type = Steady\r\n",
      "  solve_type = 'PJFNK'\r\n",
      "  petsc_options_iname = '-pc_type -pc_hypre_type'\r\n",
      "  petsc_options_value = 'hypre boomeramg'\r\n",
      "[]\r\n",
      "\r\n",
      "\r\n",
      "[VectorPostprocessors]\r\n",
      "  [x-data]\r\n",
      "    type = LineValueSampler\r\n",
      "    execute_on = 'timestep_end final'\r\n",
      "    variable = 'u'    # output data\r\n",
      "    start_point = '${replace xmin} 0 0'\r\n",
      "    end_point = '${replace xmax} 0 0'\r\n",
      "    num_points = 20\r\n",
      "    sort_by = id\r\n",
      "  []\r\n",
      "[]\r\n",
      "\r\n",
      "[Outputs]\r\n",
      "  console = true\r\n",
      "  [file-x-data]\r\n",
      "    type = CSV\r\n",
      "    file_base = 'output'\r\n",
      "    execute_on = 'final'\r\n",
      "    show = 'x-data'\r\n",
      "  []\r\n",
      "[]\r\n"
     ]
    }
   ],
   "source": [
    "'''Display MOOSE input file created'''\n",
    "\n",
    "!cat engy5310p1/new_input.i"
   ]
  },
  {
   "cell_type": "code",
   "execution_count": 11,
   "metadata": {},
   "outputs": [
    {
     "name": "stdout",
     "output_type": "stream",
     "text": [
      "\r\n",
      "\r\n",
      "Framework Information:\r\n",
      "MOOSE Version:           git commit 6fac045ef1 on 2021-02-25\r\n",
      "LibMesh Version:         ed76100f41840c34c146dd0a7f1ff5410370b489\r\n",
      "PETSc Version:           3.13.5\r\n",
      "SLEPc Version:           3.13.3\r\n",
      "Current Time:            Mon Mar  8 21:08:23 2021\r\n",
      "Executable Timestamp:    Sat Mar  6 13:25:00 2021\r\n",
      "\r\n",
      "Parallelism:\r\n",
      "  Num Processors:          1\r\n",
      "  Num Threads:             1\r\n",
      "\r\n",
      "Mesh: \r\n",
      "  Parallel Type:           replicated\r\n",
      "  Mesh Dimension:          1\r\n",
      "  Spatial Dimension:       1\r\n",
      "  Nodes:                   \r\n",
      "    Total:                 3\r\n",
      "    Local:                 3\r\n",
      "  Elems:                   \r\n",
      "    Total:                 1\r\n",
      "    Local:                 1\r\n",
      "  Num Subdomains:          1\r\n",
      "  Num Partitions:          1\r\n",
      "\r\n",
      "Nonlinear System:\r\n",
      "  Num DOFs:                3\r\n",
      "  Num Local DOFs:          3\r\n",
      "  Variables:               \"u\" \r\n",
      "  Finite Element Types:    \"LAGRANGE\" \r\n",
      "  Approximation Orders:    \"SECOND\" \r\n",
      "\r\n",
      "Execution Information:\r\n",
      "  Executioner:             Steady\r\n",
      "  Solver Mode:             Preconditioned JFNK\r\n",
      "  PETSc Preconditioner:    hypre boomeramg \r\n",
      "\r\n",
      " 0 Nonlinear |R| = \u001b[32m4.866667e-02\u001b[39m\r\n",
      "      0 Linear |R| = \u001b[32m4.866667e-02\u001b[39m\r\n",
      "      1 Linear |R| = \u001b[32m0.000000e+00\u001b[39m\r\n",
      " 1 Nonlinear |R| = \u001b[32m5.212302e-10\u001b[39m\r\n",
      "      0 Linear |R| = \u001b[32m5.212302e-10\u001b[39m\r\n",
      "      1 Linear |R| = \u001b[32m0.000000e+00\u001b[39m\r\n",
      " 2 Nonlinear |R| = \u001b[32m1.040834e-17\u001b[39m\r\n",
      "\u001b[32m Solve Converged!\u001b[39m\r\n"
     ]
    }
   ],
   "source": [
    "'''Run Engy5310P1 MOOSE App'''\n",
    "\n",
    "!engy5310p1/engy5310p1-opt -i engy5310p1/new_input.i"
   ]
  },
  {
   "cell_type": "code",
   "execution_count": 12,
   "metadata": {},
   "outputs": [
    {
     "data": {
      "image/png": "[encoded data removed]",
      "text/plain": [
       "<Figure size 1008x360 with 1 Axes>"
      ]
     },
     "metadata": {
      "needs_background": "light"
     },
     "output_type": "display_data"
    },
    {
     "name": "stdout",
     "output_type": "stream",
     "text": [
      "\n"
     ]
    }
   ],
   "source": [
    "'''Show FEM Solution'''\n",
    "\n",
    "import pandas as pd\n",
    "df = pd.read_csv('output_x-data_0002.csv')\n",
    "\n",
    "plot_solution(df, title='Dirichlet BC FEM Solution', basis_functions_type='Quadratic Lagrange', flux_basis_functions_type='Linear Monomial')"
   ]
  },
  {
   "cell_type": "markdown",
   "metadata": {},
   "source": [
    "#### [FEM Error](#toc)<a id=\"quaderror\"></a>\n"
   ]
  },
  {
   "cell_type": "code",
   "execution_count": 13,
   "metadata": {},
   "outputs": [
    {
     "data": {
      "image/png": "[encoded data removed]",
      "text/plain": [
       "<Figure size 1008x360 with 1 Axes>"
      ]
     },
     "metadata": {
      "needs_background": "light"
     },
     "output_type": "display_data"
    }
   ],
   "source": [
    "'''Error Compared to Exact Dimensionless Solution'''\n",
    "\n",
    "plot_solution_error(df, fem_type='FEM Quadratic Lagrange')"
   ]
  },
  {
   "cell_type": "markdown",
   "metadata": {},
   "source": [
    "**Comments:**\n",
    "\n",
    "1. Usage of one quadratic Lagrange finite element reproduces the exact solution; as it had to."
   ]
  },
  {
   "cell_type": "markdown",
   "metadata": {},
   "source": [
    "### [Diffusion Flux Postprocessing](#toc)<a id=\"diffusionfluxpostpro\"></a>\n",
    "\n",
    "The diffusion flux is needed in the [Dirichlet energy](#energy) integral. This section describes the post-processing operation of calculating the flux $q$ from $u$."
   ]
  },
  {
   "cell_type": "markdown",
   "metadata": {},
   "source": [
    "#### [Auxiliary Variable](#toc)<a id=\"auxvar\"></a>\n",
    "\n",
    "A derived variable for the difffusion flux calculated from the unknown $u$ needs to be specified in the `MOOSE` input file. The shape of the basis functions used for the diffusion flux should be consistent with the choice used for the $u$ variable. For example:\n",
    "\n",
    "```\n",
    "[Variables]\n",
    "  [u]\n",
    "    order = second\n",
    "    family = lagrange\n",
    "  []\n",
    "[]\n",
    "\n",
    "[AuxVariables]\n",
    "  [diffFluxU_x]           # user-named diffusion flux component in x\n",
    "    order = FIRST\n",
    "    family = MONOMIAL\n",
    "  []\n",
    "[]\n",
    "```"
   ]
  },
  {
   "cell_type": "markdown",
   "metadata": {},
   "source": [
    "#### [Use `MOOSE` Diffusion Flux Auxiliary Kernel](#toc)<a id=\"auxdiffflux\"></a>\n",
    "\n",
    "One way to compute the derivative of $u$ is to use the `MOOSE` framework `DiffusionFluxAux` kernel.\n",
    "It is available for computing the flux $q$ so the flux can be computed directly using the `MOOSE` input file as follows:\n",
    "\n",
    "```\n",
    "[AuxKernels]\n",
    "  [diffusion-flux-x]\n",
    "    execute_on = timestep_end\n",
    "    type = DiffusionFluxAux\n",
    "    diffusivity = ${replace diff_coeff}\n",
    "    variable = diffFluxU_x\n",
    "    diffusion_variable = u\n",
    "    component = x\n",
    "  []\n",
    "[]\n",
    "```\n",
    "\n",
    "Also, you need to output the values of flux for plotting; just add the newly created auxiliary field to the list of variables (`# output data`) on the `VectorPostprocessors` block output file, that is:\n",
    "\n",
    "```\n",
    "[VectorPostprocessors]\n",
    "  [x-data]\n",
    "    type = LineValueSampler\n",
    "    execute_on = 'timestep_end final'\n",
    "    variable = 'u diffFluxU_x'            # output data\n",
    "    start_point = '${replace xmin} 0 0'\n",
    "    end_point = '${replace xmax} 0 0'\n",
    "    num_points = 20\n",
    "    sort_by = id\n",
    "  []\n",
    "[]\n",
    "```"
   ]
  },
  {
   "cell_type": "code",
   "execution_count": 14,
   "metadata": {},
   "outputs": [],
   "source": [
    "'''FEM Solution'''\n",
    "\n",
    "x_a = 0\n",
    "x_b = 25\n",
    "u_a = 3\n",
    "u_b = 0\n",
    "\n",
    "diff_coeff = 0.1\n",
    "source_s = 1e-3\n",
    "\n",
    "n_felem = 1\n",
    "order = 'second'\n",
    "#n_plot_pts = 2*n_felem + 1\n",
    "n_plot_pts = 20\n",
    "\n",
    "from engy_5310.toolkit import write_engy5310_p1_input_file\n",
    "\n",
    "write_engy5310_p1_input_file(x_a, x_b, u_a=u_a, u_b=u_b, \n",
    "                             diff_coeff=diff_coeff, source_s=source_s, n_felem=n_felem, order=order, \n",
    "                             n_plot_pts=n_plot_pts, compute_diffusion_flux=True, use_moose_diffusion_flux=True)"
   ]
  },
  {
   "cell_type": "code",
   "execution_count": 15,
   "metadata": {
    "scrolled": true
   },
   "outputs": [
    {
     "name": "stdout",
     "output_type": "stream",
     "text": [
      "# Engy-5310 Problem 1: Poisson 1D FEM\r\n",
      "# UMass Lowell Nuclear Chemical Engineering\r\n",
      "# Prof. Valmor F. de Almeida\r\n",
      "# 08Mar21 21:08:23\r\n",
      "\r\n",
      "# Parameters\r\n",
      "xmin = 0.00000e+00\r\n",
      "xmax = 2.50000e+01\r\n",
      "diff_coeff = 1.00000e-01\r\n",
      "source_s = 1.00000e-03\r\n",
      "\r\n",
      "[Mesh]\r\n",
      "  [1d]\r\n",
      "    type = GeneratedMeshGenerator\r\n",
      "    dim = 1\r\n",
      "    xmin = ${replace xmin}\r\n",
      "    xmax = ${replace xmax}\r\n",
      "    nx = 1\r\n",
      "    elem_type = edge3\r\n",
      "  []\r\n",
      "[]\r\n",
      "\r\n",
      "[Variables]\r\n",
      "  [u]\r\n",
      "    order = second\r\n",
      "    family = lagrange\r\n",
      "  []\r\n",
      "[]\r\n",
      "\r\n",
      "[AuxVariables]\r\n",
      "  [diffFluxU_x]\r\n",
      "    order = FIRST\r\n",
      "    family = MONOMIAL\r\n",
      "  []\r\n",
      "[]\r\n",
      "\r\n",
      "[Kernels]\r\n",
      "  [diffusion-term]\r\n",
      "    type = DiffusionTerm\r\n",
      "    variable = u     # produced quantity\r\n",
      "    diffCoeff = ${replace diff_coeff}\r\n",
      "  []\r\n",
      "  [source-term]\r\n",
      "    type = SourceTerm\r\n",
      "    variable = u     # add to produced quantity\r\n",
      "    sourceS = ${replace source_s}\r\n",
      "  []\r\n",
      "[]\r\n",
      "\r\n",
      "[AuxKernels]\r\n",
      "  [diffusion-flux-x]\r\n",
      "    execute_on = timestep_end\r\n",
      "    type = DiffusionFluxAux     # provided by MOOSE\r\n",
      "    diffusion_variable = u\r\n",
      "    diffusivity = ${replace diff_coeff}\r\n",
      "    component = x\r\n",
      "    variable = diffFluxU_x     # produced quantity\r\n",
      "  []\r\n",
      "[]\r\n",
      "\r\n",
      "[BCs]\r\n",
      "  [entry]\r\n",
      "    type = DirichletBC\r\n",
      "    variable = u\r\n",
      "    boundary = left\r\n",
      "    value = 3.00000e+00\r\n",
      "  []\r\n",
      "  [exit]\r\n",
      "    type = DirichletBC\r\n",
      "    variable = u\r\n",
      "    boundary = right\r\n",
      "    value = 0.00000e+00\r\n",
      "  []\r\n",
      "[]\r\n",
      "\r\n",
      "[Executioner]\r\n",
      "  type = Steady\r\n",
      "  solve_type = 'PJFNK'\r\n",
      "  petsc_options_iname = '-pc_type -pc_hypre_type'\r\n",
      "  petsc_options_value = 'hypre boomeramg'\r\n",
      "[]\r\n",
      "\r\n",
      "\r\n",
      "[VectorPostprocessors]\r\n",
      "  [x-data]\r\n",
      "    type = LineValueSampler\r\n",
      "    execute_on = 'timestep_end final'\r\n",
      "    variable = 'u diffFluxU_x'    # output data\r\n",
      "    start_point = '${replace xmin} 0 0'\r\n",
      "    end_point = '${replace xmax} 0 0'\r\n",
      "    num_points = 20\r\n",
      "    sort_by = id\r\n",
      "  []\r\n",
      "[]\r\n",
      "\r\n",
      "[Outputs]\r\n",
      "  console = true\r\n",
      "  [file-x-data]\r\n",
      "    type = CSV\r\n",
      "    file_base = 'output'\r\n",
      "    execute_on = 'final'\r\n",
      "    show = 'x-data'\r\n",
      "  []\r\n",
      "[]\r\n"
     ]
    }
   ],
   "source": [
    "'''Display MOOSE input file created'''\n",
    "\n",
    "!cat engy5310p1/new_input.i"
   ]
  },
  {
   "cell_type": "code",
   "execution_count": 16,
   "metadata": {},
   "outputs": [
    {
     "name": "stdout",
     "output_type": "stream",
     "text": [
      "\r\n",
      "\r\n",
      "Framework Information:\r\n",
      "MOOSE Version:           git commit 6fac045ef1 on 2021-02-25\r\n",
      "LibMesh Version:         ed76100f41840c34c146dd0a7f1ff5410370b489\r\n",
      "PETSc Version:           3.13.5\r\n",
      "SLEPc Version:           3.13.3\r\n",
      "Current Time:            Mon Mar  8 21:08:24 2021\r\n",
      "Executable Timestamp:    Sat Mar  6 13:25:00 2021\r\n",
      "\r\n",
      "Parallelism:\r\n",
      "  Num Processors:          1\r\n",
      "  Num Threads:             1\r\n",
      "\r\n",
      "Mesh: \r\n",
      "  Parallel Type:           replicated\r\n",
      "  Mesh Dimension:          1\r\n",
      "  Spatial Dimension:       1\r\n",
      "  Nodes:                   \r\n",
      "    Total:                 3\r\n",
      "    Local:                 3\r\n",
      "  Elems:                   \r\n",
      "    Total:                 1\r\n",
      "    Local:                 1\r\n",
      "  Num Subdomains:          1\r\n",
      "  Num Partitions:          1\r\n",
      "\r\n",
      "Nonlinear System:\r\n",
      "  Num DOFs:                3\r\n",
      "  Num Local DOFs:          3\r\n",
      "  Variables:               \"u\" \r\n",
      "  Finite Element Types:    \"LAGRANGE\" \r\n",
      "  Approximation Orders:    \"SECOND\" \r\n",
      "\r\n",
      "Auxiliary System:\r\n",
      "  Num DOFs:                2\r\n",
      "  Num Local DOFs:          2\r\n",
      "  Variables:               \"diffFluxU_x\" \r\n",
      "  Finite Element Types:    \"MONOMIAL\" \r\n",
      "  Approximation Orders:    \"FIRST\" \r\n",
      "\r\n",
      "Execution Information:\r\n",
      "  Executioner:             Steady\r\n",
      "  Solver Mode:             Preconditioned JFNK\r\n",
      "  PETSc Preconditioner:    hypre boomeramg \r\n",
      "\r\n",
      " 0 Nonlinear |R| = \u001b[32m4.866667e-02\u001b[39m\r\n",
      "      0 Linear |R| = \u001b[32m4.866667e-02\u001b[39m\r\n",
      "      1 Linear |R| = \u001b[32m0.000000e+00\u001b[39m\r\n",
      " 1 Nonlinear |R| = \u001b[32m5.212302e-10\u001b[39m\r\n",
      "      0 Linear |R| = \u001b[32m5.212302e-10\u001b[39m\r\n",
      "      1 Linear |R| = \u001b[32m0.000000e+00\u001b[39m\r\n",
      " 2 Nonlinear |R| = \u001b[32m1.040834e-17\u001b[39m\r\n",
      "\u001b[32m Solve Converged!\u001b[39m\r\n"
     ]
    }
   ],
   "source": [
    "'''Run Engy5310P1 MOOSE App'''\n",
    "\n",
    "!engy5310p1/engy5310p1-opt -i engy5310p1/new_input.i"
   ]
  },
  {
   "cell_type": "code",
   "execution_count": 17,
   "metadata": {},
   "outputs": [
    {
     "data": {
      "image/png": "[encoded data removed]",
      "text/plain": [
       "<Figure size 1008x360 with 2 Axes>"
      ]
     },
     "metadata": {
      "needs_background": "light"
     },
     "output_type": "display_data"
    },
    {
     "name": "stdout",
     "output_type": "stream",
     "text": [
      "\n"
     ]
    }
   ],
   "source": [
    "'''Show FEM Solution'''\n",
    "\n",
    "import pandas as pd\n",
    "df = pd.read_csv('output_x-data_0002.csv')\n",
    "\n",
    "plot_solution(df, title='Dirichlet BC FEM Solution', basis_functions_type='Quadratic Lagrange', flux_basis_functions_type='Linear Monomial')"
   ]
  },
  {
   "cell_type": "markdown",
   "metadata": {},
   "source": [
    "#### [Compute Error](#toc)<a id=\"difffluxerror1\"></a>\n"
   ]
  },
  {
   "cell_type": "code",
   "execution_count": 18,
   "metadata": {},
   "outputs": [
    {
     "data": {
      "image/png": "[encoded data removed]",
      "text/plain": [
       "<Figure size 1008x360 with 1 Axes>"
      ]
     },
     "metadata": {
      "needs_background": "light"
     },
     "output_type": "display_data"
    }
   ],
   "source": [
    "'''Flux Error Compared to Exact Dimensionless Solution'''\n",
    "\n",
    "plot_flux_error(df, fem_type='FEM Quadratic Lagrange')"
   ]
  },
  {
   "cell_type": "markdown",
   "metadata": {},
   "source": [
    "#### [Code a Diffusion Flux Auxiliary Kernel](#toc)<a id=\"auxdiffflux2\"></a>\n",
    "\n",
    "Another way to compute the flux of $u$ is to program an auxiliary kernel. This is a worthwhile investment for learning how to implement an auxiliary kernel; in the future when the flux will be needed as a vector quantity, this learning experience will be leveraged.\n",
    "\n",
    "1. `cd include`\n",
    "1. `mkdir auxkernels`\n",
    "1. `cd auxkernels`\n",
    "1. Create a `DiffusionFluxComponent.h` class interface as folows:\n",
    " + Use the `FluxComponent.h` [course template](https://github.com/dpploy/engy-5310/blob/main/moose-app-templates/FluxComponent.h) as follows:\n",
    " + `cp *path-to*/moose-app-templates/FluxComponent.h .`\n",
    " + `mv FluxComponent.h DiffusionFluxComponent.h`\n",
    " + Edit the file `DiffusionFluxComponent.h` with a text editor by replacing all instances of `FluxComponent` with `DiffusionFluxComponent`.\n",
    "1. `cd ../..`\n",
    "1. `cd src`\n",
    "1. `mkdir auxkernels`\n",
    "1. `cd auxkernels`\n",
    "1. Create a `DiffusionFluxComponent.C` class implementation as follows:\n",
    " + Use the `FluxComponent.C` [course template](https://github.com/dpploy/engy-5310/blob/main/moose-app-templates/FluxComponent.C) as follows.\n",
    " + `cp *path-to*/moose-app-templates/FluxComponent.C .`\n",
    " + `mv FluxComponent.C DiffusionFluxComponent.C`\n",
    " + Edit the file `DiffusionFluxComponent.C` with a text editor by replacing all instances of `FluxComponent` with `DiffusionFluxComponent`.\n",
    " + You will need to program the *computeValue()* method. <span style=\"color:red\">This portion of the implementation is convered in class.</span>\n",
    " \n",
    "Depending on your implementation, the `MOOSE` input block may look like this:\n",
    "\n",
    "```\n",
    "[AuxKernels]\n",
    "  [diffusion-flux-x]\n",
    "    execute_on = timestep_end\n",
    "    type = DiffusionFluxComponent       # user-built auxiliary kernel\n",
    "    field = u                           # user-defined parameter\n",
    "    diffCoeff = ${replace diff_coeff}   # user-defined parameter\n",
    "    component = x                       # user-defined parameter\n",
    "    variable = diffFluxU_x              # produced quantity\n",
    "  []\n",
    "[]\n",
    "```"
   ]
  },
  {
   "cell_type": "markdown",
   "metadata": {},
   "source": [
    "#### [Compile and Link Application](#toc)<a id=\"compile2\"></a>\n",
    "\n",
    "1. Make sure you are in the problem project directory:\n",
    " + `pwd`\n",
    "1. You should see: `..../engy5310p1`\n",
    "1. Compile and link the application\n",
    " + `make`\n",
    "1. If all is sucessfull you should see among other things in the screen output:\n",
    " + Linking Library `.../engy5310p1/lib/libengy5310p1-opt.la...`\n",
    " + Linking Executable `.../engy5310p1/engy5310p1-opt...`"
   ]
  },
  {
   "cell_type": "code",
   "execution_count": 19,
   "metadata": {},
   "outputs": [],
   "source": [
    "'''FEM Solution'''\n",
    "\n",
    "x_a = 0\n",
    "x_b = 25\n",
    "u_a = 3\n",
    "u_b = 0\n",
    "\n",
    "diff_coeff = 0.1\n",
    "source_s = 1e-3\n",
    "\n",
    "n_felem = 1\n",
    "order = 'second'\n",
    "#n_plot_pts = 2*n_felem + 1\n",
    "n_plot_pts = 20\n",
    "\n",
    "from engy_5310.toolkit import write_engy5310_p1_input_file\n",
    "\n",
    "write_engy5310_p1_input_file(x_a, x_b, u_a=u_a, u_b=u_b, \n",
    "                             diff_coeff=diff_coeff, source_s=source_s, n_felem=n_felem, order=order, \n",
    "                             n_plot_pts=n_plot_pts, compute_diffusion_flux=True, use_moose_diffusion_flux=False)"
   ]
  },
  {
   "cell_type": "code",
   "execution_count": 20,
   "metadata": {
    "scrolled": true
   },
   "outputs": [
    {
     "name": "stdout",
     "output_type": "stream",
     "text": [
      "# Engy-5310 Problem 1: Poisson 1D FEM\r\n",
      "# UMass Lowell Nuclear Chemical Engineering\r\n",
      "# Prof. Valmor F. de Almeida\r\n",
      "# 08Mar21 21:08:24\r\n",
      "\r\n",
      "# Parameters\r\n",
      "xmin = 0.00000e+00\r\n",
      "xmax = 2.50000e+01\r\n",
      "diff_coeff = 1.00000e-01\r\n",
      "source_s = 1.00000e-03\r\n",
      "\r\n",
      "[Mesh]\r\n",
      "  [1d]\r\n",
      "    type = GeneratedMeshGenerator\r\n",
      "    dim = 1\r\n",
      "    xmin = ${replace xmin}\r\n",
      "    xmax = ${replace xmax}\r\n",
      "    nx = 1\r\n",
      "    elem_type = edge3\r\n",
      "  []\r\n",
      "[]\r\n",
      "\r\n",
      "[Variables]\r\n",
      "  [u]\r\n",
      "    order = second\r\n",
      "    family = lagrange\r\n",
      "  []\r\n",
      "[]\r\n",
      "\r\n",
      "[AuxVariables]\r\n",
      "  [diffFluxU_x]\r\n",
      "    order = FIRST\r\n",
      "    family = MONOMIAL\r\n",
      "  []\r\n",
      "[]\r\n",
      "\r\n",
      "[Kernels]\r\n",
      "  [diffusion-term]\r\n",
      "    type = DiffusionTerm\r\n",
      "    variable = u     # produced quantity\r\n",
      "    diffCoeff = ${replace diff_coeff}\r\n",
      "  []\r\n",
      "  [source-term]\r\n",
      "    type = SourceTerm\r\n",
      "    variable = u     # add to produced quantity\r\n",
      "    sourceS = ${replace source_s}\r\n",
      "  []\r\n",
      "[]\r\n",
      "\r\n",
      "[AuxKernels]\r\n",
      "  [diffusion-flux-x]\r\n",
      "    execute_on = timestep_end\r\n",
      "    type = DiffusionFluxComponent\r\n",
      "    field = u\r\n",
      "    diffCoeff = ${replace diff_coeff}\r\n",
      "    component = x\r\n",
      "    variable = diffFluxU_x     # produced quantity\r\n",
      "  []\r\n",
      "[]\r\n",
      "\r\n",
      "[BCs]\r\n",
      "  [entry]\r\n",
      "    type = DirichletBC\r\n",
      "    variable = u\r\n",
      "    boundary = left\r\n",
      "    value = 3.00000e+00\r\n",
      "  []\r\n",
      "  [exit]\r\n",
      "    type = DirichletBC\r\n",
      "    variable = u\r\n",
      "    boundary = right\r\n",
      "    value = 0.00000e+00\r\n",
      "  []\r\n",
      "[]\r\n",
      "\r\n",
      "[Executioner]\r\n",
      "  type = Steady\r\n",
      "  solve_type = 'PJFNK'\r\n",
      "  petsc_options_iname = '-pc_type -pc_hypre_type'\r\n",
      "  petsc_options_value = 'hypre boomeramg'\r\n",
      "[]\r\n",
      "\r\n",
      "\r\n",
      "[VectorPostprocessors]\r\n",
      "  [x-data]\r\n",
      "    type = LineValueSampler\r\n",
      "    execute_on = 'timestep_end final'\r\n",
      "    variable = 'u diffFluxU_x'    # output data\r\n",
      "    start_point = '${replace xmin} 0 0'\r\n",
      "    end_point = '${replace xmax} 0 0'\r\n",
      "    num_points = 20\r\n",
      "    sort_by = id\r\n",
      "  []\r\n",
      "[]\r\n",
      "\r\n",
      "[Outputs]\r\n",
      "  console = true\r\n",
      "  [file-x-data]\r\n",
      "    type = CSV\r\n",
      "    file_base = 'output'\r\n",
      "    execute_on = 'final'\r\n",
      "    show = 'x-data'\r\n",
      "  []\r\n",
      "[]\r\n"
     ]
    }
   ],
   "source": [
    "'''Display MOOSE input file created'''\n",
    "\n",
    "!cat engy5310p1/new_input.i"
   ]
  },
  {
   "cell_type": "code",
   "execution_count": 21,
   "metadata": {},
   "outputs": [
    {
     "name": "stdout",
     "output_type": "stream",
     "text": [
      "\n",
      "\n",
      "Framework Information:\n",
      "MOOSE Version:           git commit 6fac045ef1 on 2021-02-25\n",
      "LibMesh Version:         ed76100f41840c34c146dd0a7f1ff5410370b489\n",
      "PETSc Version:           3.13.5\n",
      "SLEPc Version:           3.13.3\n",
      "Current Time:            Mon Mar  8 21:08:25 2021\n",
      "Executable Timestamp:    Sat Mar  6 13:25:00 2021\n",
      "\n",
      "Parallelism:\n",
      "  Num Processors:          1\n",
      "  Num Threads:             1\n",
      "\n",
      "Mesh: \n",
      "  Parallel Type:           replicated\n",
      "  Mesh Dimension:          1\n",
      "  Spatial Dimension:       1\n",
      "  Nodes:                   \n",
      "    Total:                 3\n",
      "    Local:                 3\n",
      "  Elems:                   \n",
      "    Total:                 1\n",
      "    Local:                 1\n",
      "  Num Subdomains:          1\n",
      "  Num Partitions:          1\n",
      "\n",
      "Nonlinear System:\n",
      "  Num DOFs:                3\n",
      "  Num Local DOFs:          3\n",
      "  Variables:               \"u\" \n",
      "  Finite Element Types:    \"LAGRANGE\" \n",
      "  Approximation Orders:    \"SECOND\" \n",
      "\n",
      "Auxiliary System:\n",
      "  Num DOFs:                2\n",
      "  Num Local DOFs:          2\n",
      "  Variables:               \"diffFluxU_x\" \n",
      "  Finite Element Types:    \"MONOMIAL\" \n",
      "  Approximation Orders:    \"FIRST\" \n",
      "\n",
      "Execution Information:\n",
      "  Executioner:             Steady\n",
      "  Solver Mode:             Preconditioned JFNK\n",
      "  PETSc Preconditioner:    hypre boomeramg \n",
      "\n",
      " 0 Nonlinear |R| = \u001b[32m4.866667e-02\u001b[39m\n",
      "      0 Linear |R| = \u001b[32m4.866667e-02\u001b[39m\n",
      "      1 Linear |R| = \u001b[32m0.000000e+00\u001b[39m\n",
      " 1 Nonlinear |R| = \u001b[32m5.212302e-10\u001b[39m\n",
      "      0 Linear |R| = \u001b[32m5.212302e-10\u001b[39m\n",
      "      1 Linear |R| = \u001b[32m0.000000e+00\u001b[39m\n",
      " 2 Nonlinear |R| = \u001b[32m1.040834e-17\u001b[39m\n",
      "\u001b[32m Solve Converged!\u001b[39m\n"
     ]
    }
   ],
   "source": [
    "'''Run Engy5310P1 MOOSE App'''\n",
    "\n",
    "!engy5310p1/engy5310p1-opt -i engy5310p1/new_input.i"
   ]
  },
  {
   "cell_type": "code",
   "execution_count": 22,
   "metadata": {},
   "outputs": [
    {
     "data": {
      "image/png": "[encoded data removed]",
      "text/plain": [
       "<Figure size 1008x360 with 2 Axes>"
      ]
     },
     "metadata": {
      "needs_background": "light"
     },
     "output_type": "display_data"
    },
    {
     "name": "stdout",
     "output_type": "stream",
     "text": [
      "\n"
     ]
    }
   ],
   "source": [
    "'''Show FEM Solution'''\n",
    "\n",
    "import pandas as pd\n",
    "df = pd.read_csv('output_x-data_0002.csv')\n",
    "\n",
    "plot_solution(df, title='Dirichlet BC FEM Solution', basis_functions_type='Quadratic Lagrange', flux_basis_functions_type='Linear Monomial')"
   ]
  },
  {
   "cell_type": "markdown",
   "metadata": {},
   "source": [
    "#### [Compute Error](#toc)<a id=\"difffluxerror2\"></a>"
   ]
  },
  {
   "cell_type": "code",
   "execution_count": 23,
   "metadata": {},
   "outputs": [
    {
     "data": {
      "image/png": "[encoded data removed]",
      "text/plain": [
       "<Figure size 1008x360 with 1 Axes>"
      ]
     },
     "metadata": {
      "needs_background": "light"
     },
     "output_type": "display_data"
    }
   ],
   "source": [
    "'''Error Compared to Exact Dimensionless Solution'''\n",
    "\n",
    "plot_flux_error(df, fem_type='FEM Quadratic Lagrange')"
   ]
  },
  {
   "cell_type": "markdown",
   "metadata": {},
   "source": [
    "### [Energy Postprocessing](#toc)<a id=\"energypostpro\"></a>\n",
    "\n",
    "To compute the [Dirichlet energy](#energy) a *Postprocessor* need to be built. The user-developed class should use the previously computed diffusion flux component. With an eye towards the future use of this application in 2D and 3D, call this new class, `BulkEnergy`."
   ]
  },
  {
   "cell_type": "markdown",
   "metadata": {},
   "source": [
    "#### [Code an Energy Postprocessor](#toc)<a id=\"postpro\"></a>\n",
    "\n",
    "1. `cd include`\n",
    "1. `mkdir postprocessors`\n",
    "1. `cd postprocessors`\n",
    "1. Create a `BulkEnergy.h` class interface as folows:\n",
    " + Use the `ScalarVariableIntegralPostprocessor.h` [course template](https://github.com/dpploy/engy-5310/blob/main/moose-app-templates/ScalarVariableIntegralPostprocessor.h) as follows:\n",
    " + `cp *path-to*/moose-app-templates/ScalarVariableIntegralPostprocessor.h .`\n",
    " + `mv ScalarVariableIntegralPostprocessor.h BulkEnergy.h`\n",
    " + Edit the file `BulkEnergy.h` with a text editor by replacing all instances of `ScalarVariableIntegralPostprocessor` with `BulkEnergy`.\n",
    "1. `cd ../..`\n",
    "1. `cd src`\n",
    "1. `mkdir postprocessors`\n",
    "1. `cd postprocessors`\n",
    "1. Create a `BulkEnergy.C` class implementation as follows:\n",
    " + Use the `ScalarVariableIntegralPostprocessor.C` [course template](https://github.com/dpploy/engy-5310/blob/main/moose-app-templates/ScalarVariableIntegralPostprocessor.C) as follows.\n",
    " + `cp *path-to*/moose-app-templates/ScalarVariableIntegralPostprocessor.C .`\n",
    " + `mv ScalarVariableIntegralPostprocessor.C BulkEnergy.C`\n",
    " + Edit the file `BulkEnergy.C` with a text editor by replacing all instances of `ScalarVariableIntegralPostprocessor` with `BulkEnergy`.\n",
    " + You will need to program the *computeValue()* method. See the example below for the input file *Postprocessor* block and the parameters needed. <span style=\"color:red\">This portion of the implementation is convered in class.</span>"
   ]
  },
  {
   "cell_type": "markdown",
   "metadata": {},
   "source": [
    "#### [Compile and Link Application](#toc)<a id=\"compilelink2\"></a>\n",
    "\n",
    "1. Make sure you are in the problem project directory:\n",
    " + `pwd`\n",
    "1. You should see: `..../engy5310p1`\n",
    "1. Compile and link the application\n",
    " + `make`\n",
    "1. If all is sucessfull you should see among other things in the screen output:\n",
    " + Linking Library `.../engy5310p1/lib/libengy5310p1-opt.la...`\n",
    " + Linking Executable `.../engy5310p1/engy5310p1-opt...`"
   ]
  },
  {
   "cell_type": "markdown",
   "metadata": {},
   "source": [
    "#### [Input File](#toc)<a id=\"energyinput\"></a>\n",
    "\n",
    "A new *Postprocessors* block should be created; an example follows:\n",
    "\n",
    "```\n",
    "[Postprocessors]\n",
    "  [bulk-energy]\n",
    "    type = BulkEnergy                                    # user-defined\n",
    "    execute_on = 'timestep_end final'\n",
    "    variable = 'u'     # bulk energy unknown variable    # user-defined \n",
    "    flux_component = 'diffFluxU_x'                       # user-defined\n",
    "    diffCoeff = ${replace diff_coeff}                    # user-defined\n",
    "    sourceS = ${replace source_s}                        # user-defined\n",
    "  []\n",
    "[]\n",
    "```"
   ]
  },
  {
   "cell_type": "markdown",
   "metadata": {},
   "source": [
    "#### [Run Application](#toc)<a id=\"runenergy\"></a>\n",
    "\n",
    "1. In the `engy5310p1/` directory run the application with the Linux shell command:\n",
    " + `./engy5310p1-opt -i input.i`\n",
    "2. Compare your results with this notebook results below.\n",
    "3. Return here to follow instructions on how to implement the calculation of the total energy."
   ]
  },
  {
   "cell_type": "markdown",
   "metadata": {},
   "source": [
    "### [Energy Results](#toc)<a id=\"energyresults\"></a>"
   ]
  },
  {
   "cell_type": "code",
   "execution_count": 24,
   "metadata": {},
   "outputs": [],
   "source": [
    "'''FEM Solution'''\n",
    "\n",
    "x_a = 0\n",
    "x_b = 25\n",
    "u_a = 3\n",
    "u_b = 0\n",
    "\n",
    "diff_coeff = 0.1\n",
    "source_s = 1e-3\n",
    "\n",
    "n_felem = 1\n",
    "order = 'second'\n",
    "#n_plot_pts = 2*n_felem + 1\n",
    "n_plot_pts = 20\n",
    "\n",
    "from engy_5310.toolkit import write_engy5310_p1_input_file\n",
    "\n",
    "write_engy5310_p1_input_file(x_a, x_b, u_a=u_a, u_b=u_b, \n",
    "                             diff_coeff=diff_coeff, source_s=source_s, n_felem=n_felem, order=order, \n",
    "                             n_plot_pts=n_plot_pts, compute_diffusion_flux=True, use_moose_diffusion_flux=False,\n",
    "                             compute_energy=True)"
   ]
  },
  {
   "cell_type": "code",
   "execution_count": 25,
   "metadata": {
    "scrolled": true
   },
   "outputs": [
    {
     "name": "stdout",
     "output_type": "stream",
     "text": [
      "# Engy-5310 Problem 1: Poisson 1D FEM\r\n",
      "# UMass Lowell Nuclear Chemical Engineering\r\n",
      "# Prof. Valmor F. de Almeida\r\n",
      "# 08Mar21 21:08:25\r\n",
      "\r\n",
      "# Parameters\r\n",
      "xmin = 0.00000e+00\r\n",
      "xmax = 2.50000e+01\r\n",
      "diff_coeff = 1.00000e-01\r\n",
      "source_s = 1.00000e-03\r\n",
      "\r\n",
      "[Mesh]\r\n",
      "  [1d]\r\n",
      "    type = GeneratedMeshGenerator\r\n",
      "    dim = 1\r\n",
      "    xmin = ${replace xmin}\r\n",
      "    xmax = ${replace xmax}\r\n",
      "    nx = 1\r\n",
      "    elem_type = edge3\r\n",
      "  []\r\n",
      "[]\r\n",
      "\r\n",
      "[Variables]\r\n",
      "  [u]\r\n",
      "    order = second\r\n",
      "    family = lagrange\r\n",
      "  []\r\n",
      "[]\r\n",
      "\r\n",
      "[AuxVariables]\r\n",
      "  [diffFluxU_x]\r\n",
      "    order = FIRST\r\n",
      "    family = MONOMIAL\r\n",
      "  []\r\n",
      "[]\r\n",
      "\r\n",
      "[Kernels]\r\n",
      "  [diffusion-term]\r\n",
      "    type = DiffusionTerm\r\n",
      "    variable = u     # produced quantity\r\n",
      "    diffCoeff = ${replace diff_coeff}\r\n",
      "  []\r\n",
      "  [source-term]\r\n",
      "    type = SourceTerm\r\n",
      "    variable = u     # add to produced quantity\r\n",
      "    sourceS = ${replace source_s}\r\n",
      "  []\r\n",
      "[]\r\n",
      "\r\n",
      "[AuxKernels]\r\n",
      "  [diffusion-flux-x]\r\n",
      "    execute_on = timestep_end\r\n",
      "    type = DiffusionFluxComponent\r\n",
      "    field = u\r\n",
      "    diffCoeff = ${replace diff_coeff}\r\n",
      "    component = x\r\n",
      "    variable = diffFluxU_x     # produced quantity\r\n",
      "  []\r\n",
      "[]\r\n",
      "\r\n",
      "[BCs]\r\n",
      "  [entry]\r\n",
      "    type = DirichletBC\r\n",
      "    variable = u\r\n",
      "    boundary = left\r\n",
      "    value = 3.00000e+00\r\n",
      "  []\r\n",
      "  [exit]\r\n",
      "    type = DirichletBC\r\n",
      "    variable = u\r\n",
      "    boundary = right\r\n",
      "    value = 0.00000e+00\r\n",
      "  []\r\n",
      "[]\r\n",
      "\r\n",
      "[Executioner]\r\n",
      "  type = Steady\r\n",
      "  solve_type = 'PJFNK'\r\n",
      "  petsc_options_iname = '-pc_type -pc_hypre_type'\r\n",
      "  petsc_options_value = 'hypre boomeramg'\r\n",
      "[]\r\n",
      "\r\n",
      "[Postprocessors]\r\n",
      "  [bulk-energy]\r\n",
      "    type = BulkEnergy\r\n",
      "    execute_on = 'timestep_end final'\r\n",
      "    variable = 'u'     # bulk energy unknown variable\r\n",
      "    flux_component = 'diffFluxU_x'\r\n",
      "    diffCoeff = ${replace diff_coeff}\r\n",
      "    sourceS = ${replace source_s}\r\n",
      "  []\r\n",
      "[]\r\n",
      "\r\n",
      "[VectorPostprocessors]\r\n",
      "  [x-data]\r\n",
      "    type = LineValueSampler\r\n",
      "    execute_on = 'timestep_end final'\r\n",
      "    variable = 'u diffFluxU_x'    # output data\r\n",
      "    start_point = '${replace xmin} 0 0'\r\n",
      "    end_point = '${replace xmax} 0 0'\r\n",
      "    num_points = 20\r\n",
      "    sort_by = id\r\n",
      "  []\r\n",
      "[]\r\n",
      "\r\n",
      "[Outputs]\r\n",
      "  console = true\r\n",
      "  [file-x-data]\r\n",
      "    type = CSV\r\n",
      "    file_base = 'output'\r\n",
      "    execute_on = 'final'\r\n",
      "    show = 'x-data'\r\n",
      "  []\r\n",
      "  [console-energy]\r\n",
      "    type = Console\r\n",
      "    execute_on = 'final linear nonlinear'\r\n",
      "    show = 'bulk-energy'\r\n",
      "  []\r\n",
      "  [file-energy]\r\n",
      "    type = CSV\r\n",
      "    execute_on = 'final'\r\n",
      "    file_base = 'output_energy'\r\n",
      "    show = 'bulk-energy'\r\n",
      "  []\r\n",
      "[]\r\n"
     ]
    }
   ],
   "source": [
    "'''Display MOOSE input file created'''\n",
    "\n",
    "!cat engy5310p1/new_input.i"
   ]
  },
  {
   "cell_type": "code",
   "execution_count": 26,
   "metadata": {},
   "outputs": [
    {
     "name": "stdout",
     "output_type": "stream",
     "text": [
      "\n",
      "\n",
      "Framework Information:\n",
      "MOOSE Version:           git commit 6fac045ef1 on 2021-02-25\n",
      "LibMesh Version:         ed76100f41840c34c146dd0a7f1ff5410370b489\n",
      "PETSc Version:           3.13.5\n",
      "SLEPc Version:           3.13.3\n",
      "Current Time:            Mon Mar  8 21:08:25 2021\n",
      "Executable Timestamp:    Sat Mar  6 13:25:00 2021\n",
      "\n",
      "Parallelism:\n",
      "  Num Processors:          1\n",
      "  Num Threads:             1\n",
      "\n",
      "Mesh: \n",
      "  Parallel Type:           replicated\n",
      "  Mesh Dimension:          1\n",
      "  Spatial Dimension:       1\n",
      "  Nodes:                   \n",
      "    Total:                 3\n",
      "    Local:                 3\n",
      "  Elems:                   \n",
      "    Total:                 1\n",
      "    Local:                 1\n",
      "  Num Subdomains:          1\n",
      "  Num Partitions:          1\n",
      "\n",
      "Nonlinear System:\n",
      "  Num DOFs:                3\n",
      "  Num Local DOFs:          3\n",
      "  Variables:               \"u\" \n",
      "  Finite Element Types:    \"LAGRANGE\" \n",
      "  Approximation Orders:    \"SECOND\" \n",
      "\n",
      "Auxiliary System:\n",
      "  Num DOFs:                2\n",
      "  Num Local DOFs:          2\n",
      "  Variables:               \"diffFluxU_x\" \n",
      "  Finite Element Types:    \"MONOMIAL\" \n",
      "  Approximation Orders:    \"FIRST\" \n",
      "\n",
      "Execution Information:\n",
      "  Executioner:             Steady\n",
      "  Solver Mode:             Preconditioned JFNK\n",
      "  PETSc Preconditioner:    hypre boomeramg \n",
      "\n",
      "\n",
      "Postprocessor Values:\n",
      "+----------------+----------------+\n",
      "| time           | bulk-energy    |\n",
      "+----------------+----------------+\n",
      "|   0.000000e+00 |   0.000000e+00 |\n",
      "+----------------+----------------+\n",
      "\n",
      " 0 Nonlinear |R| = \u001b[32m4.866667e-02\u001b[39m\n",
      "      0 Linear |R| = \u001b[32m4.866667e-02\u001b[39m\n",
      "      1 Linear |R| = \u001b[32m0.000000e+00\u001b[39m\n",
      " 1 Nonlinear |R| = \u001b[32m5.212302e-10\u001b[39m\n",
      "      0 Linear |R| = \u001b[32m5.212302e-10\u001b[39m\n",
      "      1 Linear |R| = \u001b[32m0.000000e+00\u001b[39m\n",
      " 2 Nonlinear |R| = \u001b[32m1.040834e-17\u001b[39m\n",
      "\u001b[32m Solve Converged!\u001b[39m\n",
      "\n",
      "Postprocessor Values:\n",
      "+----------------+----------------+\n",
      "| time           | bulk-energy    |\n",
      "+----------------+----------------+\n",
      "|   0.000000e+00 |   0.000000e+00 |\n",
      "|   1.000000e+00 |  -2.601042e-03 |\n",
      "+----------------+----------------+\n",
      "\n",
      "\n",
      "FINAL:\n",
      "\n",
      "Postprocessor Values:\n",
      "+----------------+----------------+\n",
      "| time           | bulk-energy    |\n",
      "+----------------+----------------+\n",
      "|   0.000000e+00 |   0.000000e+00 |\n",
      "|   1.000000e+00 |  -2.601042e-03 |\n",
      "|   2.000000e+00 |  -2.601042e-03 |\n",
      "+----------------+----------------+\n",
      "\n"
     ]
    }
   ],
   "source": [
    "'''Run Engy5310P1 MOOSE App'''\n",
    "\n",
    "!engy5310p1/engy5310p1-opt -i engy5310p1/new_input.i"
   ]
  },
  {
   "cell_type": "markdown",
   "metadata": {},
   "source": [
    "#### [Compute Error](#toc)<a id=\"energyerror\"></a>"
   ]
  },
  {
   "cell_type": "code",
   "execution_count": 27,
   "metadata": {},
   "outputs": [
    {
     "name": "stdout",
     "output_type": "stream",
     "text": [
      "FEM energy   [] = -1.664667e-01\n",
      "Exact energy [] = -1.664667e-01\n",
      "Energy rel. error [%] =  1.301e-12\n"
     ]
    }
   ],
   "source": [
    "import pandas as pd\n",
    "df = pd.read_csv('output_energy.csv')\n",
    "\n",
    "fem_energy = df['bulk-energy'][0]\n",
    "\n",
    "L = x_b - x_a\n",
    "\n",
    "fem_energy_hat = fem_energy/source_s**2/L**3\n",
    "print('FEM energy   [] = %10.6e'%(fem_energy_hat))\n",
    "\n",
    "from engy_5310.toolkit import engy5310_p1_exact_solution\n",
    "\n",
    "(_, _, energy_hat) = engy5310_p1_exact_solution(x_a, x_b, u_a, u_b, diff_coeff, source_s)\n",
    "\n",
    "print('Exact energy [] = %10.6e'%(energy_hat))\n",
    "\n",
    "print('Energy rel. error [%%] = %10.3e'%((fem_energy_hat-energy_hat)/energy_hat*100))"
   ]
  },
  {
   "cell_type": "code",
   "execution_count": null,
   "metadata": {},
   "outputs": [],
   "source": []
  }
 ],
 "metadata": {
  "kernelspec": {
   "display_name": "Python 3",
   "language": "python",
   "name": "python3"
  },
  "language_info": {
   "codemirror_mode": {
    "name": "ipython",
    "version": 3
   },
   "file_extension": ".py",
   "mimetype": "text/x-python",
   "name": "python",
   "nbconvert_exporter": "python",
   "pygments_lexer": "ipython3",
   "version": "3.8.7"
  },
  "latex_envs": {
   "LaTeX_envs_menu_present": true,
   "autoclose": false,
   "autocomplete": true,
   "bibliofile": "biblio.bib",
   "cite_by": "apalike",
   "current_citInitial": 1,
   "eqLabelWithNumbers": true,
   "eqNumInitial": 1,
   "hotkeys": {
    "equation": "Ctrl-E",
    "itemize": "Ctrl-I"
   },
   "labels_anchors": false,
   "latex_user_defs": false,
   "report_style_numbering": false,
   "user_envs_cfg": false
  },
  "toc": {
   "base_numbering": 1,
   "nav_menu": {},
   "number_sections": true,
   "sideBar": true,
   "skip_h1_title": false,
   "title_cell": "Table of Contents",
   "title_sidebar": "Contents",
   "toc_cell": false,
   "toc_position": {
    "height": "calc(100% - 180px)",
    "left": "10px",
    "top": "150px",
    "width": "220.75px"
   },
   "toc_section_display": true,
   "toc_window_display": false
  }
 },
 "nbformat": 4,
 "nbformat_minor": 2
}
