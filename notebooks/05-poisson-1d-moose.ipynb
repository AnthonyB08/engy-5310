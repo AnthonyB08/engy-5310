{
 "cells": [
  {
   "cell_type": "markdown",
   "metadata": {},
   "source": [
    "ChEn-5310: Computational Continuum Transport Phenomena Spring 2021 UMass Lowell; Prof. V. F. de Almeida **17Feb21**\n",
    "\n",
    "# 05. Poisson 1D w/ MOOSE\n",
    "$  \n",
    "  \\newcommand{\\Amtrx}{\\boldsymbol{\\mathsf{A}}}\n",
    "  \\newcommand{\\Bmtrx}{\\boldsymbol{\\mathsf{B}}}\n",
    "  \\newcommand{\\Mmtrx}{\\boldsymbol{\\mathsf{M}}}\n",
    "  \\newcommand{\\Imtrx}{\\boldsymbol{\\mathsf{I}}}\n",
    "  \\newcommand{\\Pmtrx}{\\boldsymbol{\\mathsf{P}}}\n",
    "  \\newcommand{\\Lmtrx}{\\boldsymbol{\\mathsf{L}}}\n",
    "  \\newcommand{\\Umtrx}{\\boldsymbol{\\mathsf{U}}}\n",
    "  \\newcommand{\\Smtrx}{\\boldsymbol{\\mathsf{S}}}\n",
    "  \\newcommand{\\xvec}{\\boldsymbol{\\mathsf{x}}}\n",
    "  \\newcommand{\\avec}{\\boldsymbol{\\mathsf{a}}}\n",
    "  \\newcommand{\\bvec}{\\boldsymbol{\\mathsf{b}}}\n",
    "  \\newcommand{\\cvec}{\\boldsymbol{\\mathsf{c}}}\n",
    "  \\newcommand{\\rvec}{\\boldsymbol{\\mathsf{r}}}\n",
    "  \\newcommand{\\fvec}{\\boldsymbol{\\mathsf{f}}}\n",
    "  \\newcommand{\\mvec}{\\boldsymbol{\\mathsf{m}}}\n",
    "  \\newcommand{\\gvec}{\\boldsymbol{\\mathsf{g}}}\n",
    "  \\newcommand{\\zerovec}{\\boldsymbol{\\mathsf{0}}}\n",
    "  \\newcommand{\\norm}[1]{\\bigl\\lVert{#1}\\bigr\\rVert}\n",
    "  \\newcommand{\\transpose}[1]{{#1}^\\top}\n",
    "  \\DeclareMathOperator{\\rank}{rank}\n",
    "  \\newcommand{\\Reals}{\\mathbb{R}}\n",
    "  \\newcommand{\\thetavec}{\\boldsymbol{\\theta}}\n",
    "$"
   ]
  },
  {
   "cell_type": "markdown",
   "metadata": {},
   "source": [
    "---\n",
    "\n",
    "## Table of Contents<a id=\"toc\"></a>\n",
    "* [Objectives](#obj)\n",
    "* [Problem Statement](#statement)\n",
    "* [Collocation Points](#colpts)\n",
    "* [Lagrange Polynomial Basis Functions w/ Least-Squares Residual](#lagrange-lsq)\n",
    "  - [Linear Combination of Non-Linear Basis Functions](#lagrange-lincomb)\n",
    "  - [Optimal Combination Coefficients](#lagrange-optimal-coeff)\n",
    "  - [Best Approximant Function](#lagrange-approximant)\n",
    "  - [Results](#lagrange-res)\n",
    "  - [Errors](#lagrange-error)\n",
    "  - [Residual](#lagrange-residual)\n",
    "* [Experiment #1](#ex1)\n",
    "---"
   ]
  },
  {
   "cell_type": "markdown",
   "metadata": {},
   "source": [
    "## [Objectives](#toc)<a id=\"obj\"></a>\n",
    "\n",
    " + Begin using MOOSE to practice solving ODE's."
   ]
  },
  {
   "cell_type": "markdown",
   "metadata": {},
   "source": [
    "## [Poisson 1D Problem Statement](#toc)<a id=\"statem\"></a>\n",
    "\n",
    "Solve the Poisson model problem. Find $u:[a,b]\\in\\Reals\\rightarrow\\Reals$ for $S \\ne 0$, $D \\ne 0$ such that:\n",
    "\n",
    "\\begin{align*}\n",
    " \\bigl(-D(x)\\, u'\\bigr)'(x) &= S(x) \\quad \\forall \\quad x\\in [a,b], \\\\\n",
    " u(a) &= A, \\\\\n",
    " u(b) &= B.\n",
    "\\end{align*}\n",
    "   \n",
    "Solve this problem analytically for constant diffusion coefficient, $D$, and source, $S$."
   ]
  },
  {
   "cell_type": "markdown",
   "metadata": {},
   "source": [
    "## [MOOSE Components](#toc)<a id=\"moose\"></a>\n",
    "\n",
    "We need to create a MOOSE *application* with two MOOSE *kernels* and an *input* file.\n",
    "\n",
    "### MOOSE App Creation\n",
    "\n",
    "1. `cd ~/moose`\n",
    "1. `cd ..`\n",
    "1. `./moose/scripts/stork.sh Engy5310P1`\n",
    "1. Disregard the `github` setup\n",
    "1. `cd engy5310p1`\n",
    "1. `make`\n",
    "1. `./run_tests`\n",
    "1. `cp test/tests/kernels/simple_diffusion/simple_diffusion.i input.i`\n",
    "1. Cleanup: `delete test/, unit/, doc/, scripts/, and run_tests`\n",
    "1. Edit `src/main.C`\n",
    " - Replace `Engy5310P1TestApp` with `Engy5310P1App`\n",
    "1. `make clean`\n",
    "1. `make`\n",
    "1. Test run \n",
    " + `./engy5310-opt -i input.i`\n",
    "1. Use VisIt or Paraview to visualize test_out.e\n",
    "\n",
    "### Add Diffusion Term Kernel\n",
    "1. cd include\n",
    "1. mkdir kernel\n",
    "1. Create a DiffsionTerm.h class interface.\n",
    " + Copy DiffusionTerm.h from the course Engy-5310 repository.\n",
    "1. Create a DiffusionTerm.C class implementation.\n",
    " + Copy DiffusionTerm.C from the course Engy-5310 repository.\n",
    "\n",
    "### Add Source Term Kernel\n",
    "1. cd include\n",
    "1. mkdir kernel\n",
    "1. Create a SourceTerm.h class interface.\n",
    "  + Copy SourceTerm.h from the course Engy-5310 repository.\n",
    "1. Create a SourceTerm.C class implementation.\n",
    "  + Copy `SourceTerm.C` from the course Engy-5310 repository."
   ]
  },
  {
   "cell_type": "code",
   "execution_count": 16,
   "metadata": {},
   "outputs": [
    {
     "data": {
      "image/png": "[encoded data removed]",
      "text/plain": [
       "<Figure size 1008x360 with 1 Axes>"
      ]
     },
     "metadata": {
      "needs_background": "light"
     },
     "output_type": "display_data"
    }
   ],
   "source": [
    "import pandas as pd\n",
    "\n",
    "df = pd.read_csv('engy5310p1/output_u_0002.csv')\n",
    "import matplotlib.pyplot as plt\n",
    "%matplotlib inline\n",
    "\n",
    "L = df['x'].max() - df['x'].min()\n",
    "x_hat = (df['x']-df['x'].min())/L - 0.5\n",
    "\n",
    "diff_coeff = 2.0\n",
    "source_s = -0.1\n",
    "u_a = 0\n",
    "u_b = 1\n",
    "\n",
    "c = - source_s / diff_coeff\n",
    "u_hat = df['u']/c/L**2 + 1/8\n",
    "\n",
    "plt.figure(1, figsize=(14, 5))\n",
    "plt.plot(x_hat, u_hat,'r*',label='MOOSE')\n",
    "plt.title(r' $u_h(x)$', fontsize=20)\n",
    "plt.ylabel(r'$r(x)$', fontsize=18)\n",
    "plt.xlabel(r'$x$', fontsize=18)\n",
    "plt.xticks(fontsize=16)\n",
    "plt.yticks(fontsize=16)\n",
    "plt.legend(loc='best',fontsize=12)\n",
    "plt.grid(True)\n",
    "plt.show()"
   ]
  },
  {
   "cell_type": "code",
   "execution_count": null,
   "metadata": {},
   "outputs": [],
   "source": []
  }
 ],
 "metadata": {
  "kernelspec": {
   "display_name": "Python 3",
   "language": "python",
   "name": "python3"
  },
  "language_info": {
   "codemirror_mode": {
    "name": "ipython",
    "version": 3
   },
   "file_extension": ".py",
   "mimetype": "text/x-python",
   "name": "python",
   "nbconvert_exporter": "python",
   "pygments_lexer": "ipython3",
   "version": "3.8.7"
  },
  "latex_envs": {
   "LaTeX_envs_menu_present": true,
   "autoclose": false,
   "autocomplete": true,
   "bibliofile": "biblio.bib",
   "cite_by": "apalike",
   "current_citInitial": 1,
   "eqLabelWithNumbers": true,
   "eqNumInitial": 1,
   "hotkeys": {
    "equation": "Ctrl-E",
    "itemize": "Ctrl-I"
   },
   "labels_anchors": false,
   "latex_user_defs": false,
   "report_style_numbering": false,
   "user_envs_cfg": false
  },
  "toc": {
   "base_numbering": 1,
   "nav_menu": {},
   "number_sections": true,
   "sideBar": true,
   "skip_h1_title": false,
   "title_cell": "Table of Contents",
   "title_sidebar": "Contents",
   "toc_cell": false,
   "toc_position": {
    "height": "calc(100% - 180px)",
    "left": "10px",
    "top": "150px",
    "width": "220.75px"
   },
   "toc_section_display": true,
   "toc_window_display": false
  }
 },
 "nbformat": 4,
 "nbformat_minor": 2
}
